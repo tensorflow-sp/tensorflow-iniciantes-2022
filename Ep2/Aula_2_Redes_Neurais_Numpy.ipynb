{
  "nbformat": 4,
  "nbformat_minor": 0,
  "metadata": {
    "colab": {
      "name": "Aula 2 - Redes Neurais - Numpy",
      "provenance": [],
      "collapsed_sections": []
    },
    "kernelspec": {
      "name": "python3",
      "display_name": "Python 3"
    },
    "language_info": {
      "name": "python"
    }
  },
  "cells": [
    {
      "cell_type": "markdown",
      "source": [
        "# Aula 2 - Introdução as Redes Neurais\n",
        "\n",
        "No segundo encontro da nossa temporada de Tensorflow de 2022 iremos introduzir, de maneira prática, uma rede neural de múltiplas camadas, também conhecida como *Multi layer perceptron*.\n",
        "\n",
        "Para construirmos a nossa rede teremos que nos preocupar em escrever as seguintes implementações:\n",
        "\n",
        "- Neurônio\n",
        "- Função de ativação\n",
        "- Função de *loss* ou perda\n",
        "- Feed foward\n",
        "- Backpropagation\n",
        "\n",
        "Para fazermos tudo isso, é muito importante estarmos familiarizados com operações matriciais. Por isso, iremos revisá-las antes de implementar a rede."
      ],
      "metadata": {
        "id": "LJaJ7rDbZQY7"
      }
    },
    {
      "cell_type": "code",
      "source": [
        "import numpy as np\n",
        "\n",
        "np.random.seed(seed=42)"
      ],
      "metadata": {
        "id": "W4D8D67OfPMT"
      },
      "execution_count": null,
      "outputs": []
    },
    {
      "cell_type": "markdown",
      "source": [
        "## Operações Matricias - Revisão"
      ],
      "metadata": {
        "id": "s-RlwTbEkA3A"
      }
    },
    {
      "cell_type": "markdown",
      "source": [
        "\n",
        "Quando estamos falando de redes neurais, estamos falando de muitos dados, muitas camadas e muitas operações. Nossos dados e camadas podem ser vistos como uma matriz e, sendo assim, o jeito mais fácil de realizar operações entre eles é utilizando técnicas matriciais.\n",
        "\n",
        "![](https://www.jeremyjordan.me/content/images/2018/01/Screen-Shot-2017-11-07-at-12.32.19-PM.png)"
      ],
      "metadata": {
        "id": "ZGHPy4smvnnC"
      }
    },
    {
      "cell_type": "markdown",
      "source": [
        "A operação mais comum, ao longo de toda a rede, é a multiplicação matricial.\n",
        "\n",
        "![operacao matricial](https://www.somatematica.com.br/emedio/matrizes/Image37.gif)"
      ],
      "metadata": {
        "id": "4CJDs-FKtUF_"
      }
    },
    {
      "cell_type": "markdown",
      "source": [
        "## Derivada - Revisão"
      ],
      "metadata": {
        "id": "bss-7DR2DDLV"
      }
    },
    {
      "cell_type": "markdown",
      "source": [
        "Podemos entender, de forma bastante simplista, como a taxa de variação em um pequeno intervalo.\n",
        "\n",
        "![](https://upload.wikimedia.org/wikipedia/commons/3/37/Graph_of_sliding_derivative_line_no_text.gif?20181001063527)\n",
        "\n",
        "Vamos ver um exemplo com o dólar!"
      ],
      "metadata": {
        "id": "V_Uj_meyDGjy"
      }
    },
    {
      "cell_type": "markdown",
      "source": [
        "### Regra da cadeia\n",
        "\n",
        "![](https://cdn-media-1.freecodecamp.org/images/1*_KMMFvRP5X9kC59brI0ykw.png)"
      ],
      "metadata": {
        "id": "96g8LY9xurD1"
      }
    },
    {
      "cell_type": "markdown",
      "source": [
        "## Neurônio - Revisão"
      ],
      "metadata": {
        "id": "ruC3O0tfvqqC"
      }
    },
    {
      "cell_type": "markdown",
      "source": [
        "Como vimos na aula passada, um neurônio é definido como um componente da rede que recebe uma entrada (*input*), multiplica essa entrada por um conjunto de pesos, soma o resultado e aplica uma função de ativação nesse resultado. Dessa forma, para definirmos um neurônio precisamos:\n",
        "\n",
        "- Pesos associados\n",
        "- Função de ativação"
      ],
      "metadata": {
        "id": "_nPiYbOfvz8O"
      }
    },
    {
      "cell_type": "markdown",
      "source": [
        "![](https://miro.medium.com/max/428/1*O7YSSqlOdQuNgMrH7J_3dg.png)"
      ],
      "metadata": {
        "id": "g_Vk5V7CvwD3"
      }
    },
    {
      "cell_type": "markdown",
      "source": [
        "## Função de ativação\n",
        "\n",
        "As funções de ativação, como visto na aula passada, são as funções responsáveis por permitir que a rede neural consiga distorcer/compor soluções finais complexas que conseguem resolver o problema. Temos vários tipos de funções de ativação como:\n",
        "\n",
        "- Linear\n",
        "- Sigmóide\n",
        "- Tangente hiperbólica\n",
        "- ReLu (*Rectified Linear Unit*)\n",
        "\n",
        "Hoje, para resolvermos o problema da previsão de vendas, iremos utilizar a função sigmóide e linear."
      ],
      "metadata": {
        "id": "PEyH5Leof7eA"
      }
    },
    {
      "cell_type": "markdown",
      "source": [
        "### Sigmóide\n",
        "\n",
        "A sigmóide é dada pela seguinte função:\n",
        "\n",
        "$$\\phi(z) = \\frac{1}{1+e^{-z}}$$\n",
        "\n",
        "<br>\n",
        "<br>\n",
        "\n",
        "![](https://www.dobitaobyte.com.br/wp-content/uploads/2018/12/sigmoid.png)"
      ],
      "metadata": {
        "id": "_3U0TQDthOzn"
      }
    },
    {
      "cell_type": "markdown",
      "source": [
        "#### Derivada da sigmoide\n",
        "\n",
        "$$\\phi'(z) = \\phi(z)(1-\\phi(z))$$"
      ],
      "metadata": {
        "id": "k6biv9DTv6EW"
      }
    },
    {
      "cell_type": "code",
      "source": [
        "class Sigmoide():\n",
        "  def ativar(self, entrada):\n",
        "    return 1 / (1 + np.exp(-entrada))\n",
        "\n",
        "  def derivada(self, entrada):\n",
        "    return self.ativar(entrada) * (1 - self.ativar(entrada))"
      ],
      "metadata": {
        "id": "w9c0X9dSgAhF"
      },
      "execution_count": null,
      "outputs": []
    },
    {
      "cell_type": "code",
      "source": [
        "# Quando a entrada é 0, o valor deve ser 0.5\n",
        "entrada = 0\n",
        "Sigmoide().ativar(entrada)"
      ],
      "metadata": {
        "colab": {
          "base_uri": "https://localhost:8080/"
        },
        "id": "-wgwh3xThVSX",
        "outputId": "7ef36623-97d1-4d71-dffb-f3e4edd4b4fc"
      },
      "execution_count": null,
      "outputs": [
        {
          "output_type": "execute_result",
          "data": {
            "text/plain": [
              "0.5"
            ]
          },
          "metadata": {},
          "execution_count": 5
        }
      ]
    },
    {
      "cell_type": "code",
      "source": [
        "entrada = 7\n",
        "Sigmoide().ativar(entrada)"
      ],
      "metadata": {
        "colab": {
          "base_uri": "https://localhost:8080/"
        },
        "id": "1lnipY0EhbgO",
        "outputId": "67fc5089-34c1-4d2f-dba1-07c721e73983"
      },
      "execution_count": null,
      "outputs": [
        {
          "output_type": "execute_result",
          "data": {
            "text/plain": [
              "0.9990889488055994"
            ]
          },
          "metadata": {},
          "execution_count": 6
        }
      ]
    },
    {
      "cell_type": "markdown",
      "source": [
        "### Linear\n",
        "\n",
        "A função linear que usamos aqui também é conhecida como função identidade. Ela é expressa por:\n",
        "\n",
        "$$f(x) = x$$\n",
        "\n",
        "<br>\n",
        "<br>\n",
        "\n",
        "![](http://mathonline.wdfiles.com/local--files/the-identity-function/Screen%20Shot%202015-09-07%20at%203.04.15%20PM.png)"
      ],
      "metadata": {
        "id": "JoEh4OsShgNB"
      }
    },
    {
      "cell_type": "markdown",
      "source": [
        "#### Derivada da linear\n",
        "\n",
        "$$f'(x) = 1$$"
      ],
      "metadata": {
        "id": "0A0jf2s_8eW-"
      }
    },
    {
      "cell_type": "code",
      "source": [
        "class Linear():\n",
        "  def ativar(self, entrada):\n",
        "    return entrada\n",
        "\n",
        "  def derivada(self, entrada):\n",
        "    return np.ones(entrada.shape)"
      ],
      "metadata": {
        "id": "4cz5UVPBgQyM"
      },
      "execution_count": null,
      "outputs": []
    },
    {
      "cell_type": "code",
      "source": [
        "entrada = 7\n",
        "Linear().ativar(entrada)"
      ],
      "metadata": {
        "colab": {
          "base_uri": "https://localhost:8080/"
        },
        "id": "ahf67pIUh2po",
        "outputId": "c879112c-eed2-4e19-eb4c-8e3604330889"
      },
      "execution_count": null,
      "outputs": [
        {
          "output_type": "execute_result",
          "data": {
            "text/plain": [
              "7"
            ]
          },
          "metadata": {},
          "execution_count": 8
        }
      ]
    },
    {
      "cell_type": "markdown",
      "source": [
        "## Neurônio\n",
        "\n",
        "\n",
        "\n",
        "Além disso, é muito comum que uma mesma camada da rede, ou seja, múltiplos neurônios, façam uso da mesma função de ativação, variando apenas os pesos associados. Dessa forma, ao invés de implementarmos apenas UM neurônio faremos a implementação de uma camada."
      ],
      "metadata": {
        "id": "mfgHae9pb_Kw"
      }
    },
    {
      "cell_type": "code",
      "source": [
        "class Camada():\n",
        "  def __init__(self, qtd_entrada, qtd_saida, funcao_ativacao, pesos=None):\n",
        "\n",
        "    if pesos is None:\n",
        "      self.pesos = np.random.normal(0.0, 1.0, (qtd_entrada, qtd_saida))\n",
        "    else:\n",
        "      self.pesos = pesos\n",
        "    self.funcao_ativacao = funcao_ativacao\n",
        "    self.delta_peso = None\n",
        "    self._entrada = None\n",
        "    self._saida_linear = None\n",
        "    self._ativacao = None\n",
        "  \n",
        "  def propagar(self, entrada):\n",
        "    self._entrada = entrada # a\n",
        "    self._saida_linear = np.dot(self._entrada, self.pesos) # z\n",
        "    self._ativacao = self.funcao_ativacao.ativar(self._saida_linear)\n",
        "\n",
        "    return self._ativacao"
      ],
      "metadata": {
        "id": "yjsDhJZ4ddLl"
      },
      "execution_count": null,
      "outputs": []
    },
    {
      "cell_type": "markdown",
      "source": [
        "Vamos construir nossa primeira camada!\n",
        "Queremos fazer uma camada com dois neurônio, função de ativação sigmoidal e pesos iguais a zero.\n",
        "\n",
        "![Imagem1.jpg](data:image/jpeg;base64,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)"
      ],
      "metadata": {
        "id": "RL4DMGpAzs_c"
      }
    },
    {
      "cell_type": "code",
      "source": [
        "primeira_camada = Camada(2, 1, Sigmoide(), pesos=np.array([[0], [0]]))"
      ],
      "metadata": {
        "id": "V1zX341jf21J"
      },
      "execution_count": null,
      "outputs": []
    },
    {
      "cell_type": "code",
      "source": [
        "primeira_camada.propagar(np.array([[1,2]]))"
      ],
      "metadata": {
        "colab": {
          "base_uri": "https://localhost:8080/"
        },
        "id": "LNIA1kXoiMif",
        "outputId": "b6778f08-7d4b-4cf7-c6c5-0e5b5ecfab79"
      },
      "execution_count": null,
      "outputs": [
        {
          "output_type": "execute_result",
          "data": {
            "text/plain": [
              "array([[0.5]])"
            ]
          },
          "metadata": {},
          "execution_count": 11
        }
      ]
    },
    {
      "cell_type": "markdown",
      "source": [
        "## Rede Neural"
      ],
      "metadata": {
        "id": "4adhAFZ13Hfr"
      }
    },
    {
      "cell_type": "markdown",
      "source": [
        "Uma rede neural é composta por uma ou mais camadas e uma função de perda, que nos ajuda a estimar o erro da nossa rede e ir melhorando a fim de diminuí-lo. Sendo assim, iremos agora definir nossa rede e também algumas funções de perda."
      ],
      "metadata": {
        "id": "Qt7CJd5C3JxJ"
      }
    },
    {
      "cell_type": "markdown",
      "source": [
        "### Função de perda"
      ],
      "metadata": {
        "id": "T8MOaEVjjWoU"
      }
    },
    {
      "cell_type": "markdown",
      "source": [
        "A função de perda, também chamada de função de erro, é uma função que avalia quão bem ou mal um algoritmo performa em um conjunto de dados. É utilizada para determinar o erro (*loss*) entre o valor predito e o valor real."
      ],
      "metadata": {
        "id": "JA2uUsrh3eSo"
      }
    },
    {
      "cell_type": "markdown",
      "source": [
        "#### Mean Squared Error"
      ],
      "metadata": {
        "id": "1dxGjGoIA6ly"
      }
    },
    {
      "cell_type": "markdown",
      "source": [
        "##### Fórmula\n",
        "\n",
        "$$MSE = \\frac{1}{n}\\sum_{n=1}^{i} (y_i - \\hat{y}_i)^2$$\n",
        "\n",
        "##### Derivada\n",
        "\n",
        "$$\\frac{\\partial MSE}{\\partial \\hat{y}} = - (y - \\hat{y})$$"
      ],
      "metadata": {
        "id": "Vk5XOFLdA_f7"
      }
    },
    {
      "cell_type": "code",
      "source": [
        "class MSE():\n",
        "  def erro(self, valores_reais, predicoes):\n",
        "    return np.mean((valores_reais - predicoes) ** 2)\n",
        "  \n",
        "  def derivada(self, valores_reais, predicoes):\n",
        "    return -(valores_reais - predicoes)"
      ],
      "metadata": {
        "id": "lZzvlzFWkJm_"
      },
      "execution_count": null,
      "outputs": []
    },
    {
      "cell_type": "markdown",
      "source": [
        "#### Mean absolute error"
      ],
      "metadata": {
        "id": "IQ2DPdUyBc4T"
      }
    },
    {
      "cell_type": "markdown",
      "source": [
        "##### Fórmula\n",
        "\n",
        "$$MAE = \\frac{1}{n}\\sum_{n=1}^{i} |y_i - \\hat{y}_i|$$\n",
        "\n",
        "##### Derivada\n",
        "\n",
        "\\begin{align}\n",
        "        \\text{$\\frac{\\partial MAE}{\\partial \\hat{y}}$} = \\left\\{\n",
        "        \\begin{array}{cl}\n",
        "        1 & \\hat{y} > y \\\\\n",
        "        -1 & \\hat{y} \\leq y\n",
        "        \\end{array}\n",
        "        \\right.\n",
        "    \\end{align}"
      ],
      "metadata": {
        "id": "WVMkLxxgBhDc"
      }
    },
    {
      "cell_type": "code",
      "source": [
        "class MAE():\n",
        "  def erro(self, valores_reais, predicoes):\n",
        "    return np.mean(np.abs(valores_reais - predicoes))\n",
        "  \n",
        "  def derivada(self, valores_reais, predicoes):\n",
        "    resultado_filtro = predicoes > valores_reais\n",
        "    return 2 * resultado_filtro - 1"
      ],
      "metadata": {
        "id": "Rrv4jICAqoTx"
      },
      "execution_count": null,
      "outputs": []
    },
    {
      "cell_type": "markdown",
      "source": [
        "### Backpropagation"
      ],
      "metadata": {
        "id": "U95tufB_mtPy"
      }
    },
    {
      "cell_type": "markdown",
      "source": [
        "Acrônimo para \"backward propagation errors\", consiste em ajustar os parâmetros, ou pesos, de uma rede neural a fim de obter a saída predita mais próxima do *target* desejado.\n",
        "\n",
        "O ajuste é feito de acordo com a contribuição do parâmetro ajustado para o erro final. Essa contribuição é obtida através do gradiente da rede, sendo que o gradiente é o conjunto de todas as derivadas parciais da minha rede neural em relação aos erros\n",
        "\n",
        "O gradiente de uma função $f$ é o vetor composto pelas derivadas parciais dessa função e ele indica para qual direção a função **CRESCE**:\n",
        "\n",
        "$$\\nabla f(p) = \\left[\\frac{\\partial f}{\\partial x_1}(p), \\frac{\\partial f}{\\partial x_2}(p) \\dots \\frac{\\partial f}{\\partial x_n}(p)\\right]$$\n",
        "\n",
        "\n"
      ],
      "metadata": {
        "id": "IfLttBtv73ol"
      }
    },
    {
      "cell_type": "markdown",
      "source": [
        "![gradfunc.jpg](data:image/jpeg;base64,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)"
      ],
      "metadata": {
        "id": "g77sJck1ATml"
      }
    },
    {
      "cell_type": "markdown",
      "source": [
        "Para implementarmos a nossa rede neural vamos precisar calcular a derivada do erro em relação aos pesos de cada camada. Sendo assim, para a última camada temos:"
      ],
      "metadata": {
        "id": "SFdhq1ihu4Bp"
      }
    },
    {
      "cell_type": "markdown",
      "source": [
        "![image.png](data:image/png;base64,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)"
      ],
      "metadata": {
        "id": "y5foxEjeukcX"
      }
    },
    {
      "cell_type": "markdown",
      "source": [
        "Já para a penúltima camada, temos:"
      ],
      "metadata": {
        "id": "rdKBgZwLv9eq"
      }
    },
    {
      "cell_type": "markdown",
      "source": [
        "![image.png](data:image/png;base64,iVBORw0KGgoAAAANSUhEUgAAAcQAAABlCAYAAADTaJPgAAAgAElEQVR4nOydd1hVV/aw39sv/YJ0kSKCYgEsIBqjiRpNYknvMd2UiZNJndRfvtR50mZSNImapsbEGMRuNLEbBQUSVFBQlCZSpNfb7/n+yHPOcAULCorOef9L5Jy79zp771X22msrBEEQkJGRkZGR+R9HebEbICMjIyMj0xOQFaKMjIyMjAyyQpSRkZGRkQFkhSgjIyMjIwPIClFGRkZGRgaQFaKMjIyMjAwgK0QZGRkZGRlAVogyMjIyMjKArBBlZGRkZGQAWSHKyMjIyMgAskKUkZGRkZEBZIUoIyMjIyMDyApRRkZGRkYGkBWijIyMjIwMICtEGRkZGRkZQFaIMjIyMjIygKwQZWRkZGRkAFkhysjIyMjIALJClJGRkZGRAUB9sRsgIyNzaWC323E4HKhUKhQKBQqF4rR/73A4sNlsqFQqlErlGf/+UsThcCAIgiQXpfLMPobD4cBut6NQKFCrL/8lWBAEBEHodJ/tdjt2ux21Wn1W460rUL3xxhtvdPuvyMjIXLJYrVaamprYv38/GzduJDAwEA8PD2mRs9lsWK1WHA4HgLR4mc1mtm3bRn5+PgaDAa1We9koRofDgdVq5cSJE2zdupWamhqCg4NRKpWSXKxWKzabzUkuAA0NDSxdupSmpibc3d3RaDSoVKqL2Z1uw+FwYDQaOXToEJs3b0ahUBAYGOikJE8lp8OHD7N161YASU7dPXZkhSgjI3NKBEGgurqaefPmsX79esaOHcvAgQNRKpXYbDaam5s5dOgQOTk5GI1G3Nzc0Gq1wH8V448//khKSgojRozAw8Pjslj8LRYLeXl5PPfcc1itViZNmoSnpyeCIGCz2airqyMnJ4cDBw5gsVjw8PBArVajVCpRq9XYbDYWLVpERkYGQ4YMwcPD47IwFNricDgwm82sWLGCf//738THx5OQkICLi4tkUNTW1pKdnU1ubi5msxl3d3e0Wq3kSRYUFPDuu+/icDgYMmRItxtUCkEQhG57u4yMzCWLIAjU1dWxfPlytmzZwpNPPsmQIUNwd3cnPz+fxYsXc+jQIfz9/XF3dycnJwd3d3dmzJjB2LFjcXNzw263U1payuzZs2loaOD5559nwIABl+ziL4ZHs7Ky+PDDDxkyZAgPPvggAQEBCIJATk4Os2fPpqWlhfDwcGw2G9nZ2RgMBl588UUGDhyITqfDaDSSn5/P7NmzGTBgAPfddx9+fn5nFXK9VDAajfz6668sW7aMm2++mYkTJ+Lq6opSqWTnzp0sWbKEuro6QkJCsNvt7N+/n/DwcB5//HHi4uJQKBSYTCZ27drFggULmDJlCtOnT8fLy6vb2txjPcS27rTFYsFutyMIwmktBNENP1nHX6qTrzsQJ7TNZsNisUihCnEidiSrtvJsK9+eLlexn23HEHBW+xGinCwWC1ar9ayfu5Cc/B0707+zfX9aWhoLFy5k2rRpjB07Fi8vLxQKBX/++Sfff/89V111FX/729+YMmUKer2eFStWUFZWxhVXXIG3tzcqlQoPDw/69evH0qVLcTgcxMbGSvtCXUlHY1sQBOl3uuL3BEGgoaGBhQsXUlVVxUsvvURwcDAqlQq73c7u3btJSUnh/vvv59FHH2XcuHFUVFSQkpKCw+EgMTFR8oI8PDzQ6/UkJyfj5eXFgAEDLlhIubtlZbfbKSsr47333iM+Pp7bb79dig44HA7Wrl3L9u3bufPOO3n44YcZN24clZWV/PLLLzgcDq688kr0ej0ajYbg4GDq6upYsWIFw4cPx9/fv9tk1CN3dMVN54KCAtLS0iguLsZgMDBq1Cji4uIkl/rkZ8TnRBQKBSqV6rII0XQF4iRobm4mPT2drKwsLBYLUVFRjB8/Hm9v7w43vMWJ0xZRrj1JQbRFDNccPHiQ9PR0Kisr6d27N1deeSURERHodLrTPm+z2Thx4gQ//vgjVquV8ePHExsbi6ur6wXqwekRBAGz2UxeXh6pqanU1NTg6+vLhAkTCAsLQ6/Xn/f7jUYjKSkpKJVKrrrqKtzc3KR/T0xM5PPPP6d3795SqHDIkCH4+vrS3NzsNF5UKhWBgYFceeWV/PnnnxQVFREdHS2FVrsCMVRZU1PDnj17OHjwIA6Hg+HDhzNq1Cjc3d27ZB2wWq3k5uZy8OBBJk2ahMFgkOaARqPhqquuon///oSFheHq6opCoWDgwIF4enpSUVGB0WiU3qXX60lKSuKnn35ixYoVTJw4UTIiupMLISuj0cj27dupqakhISEBT09PSU5KpZJbbrmF8ePH06dPH9zc3DCZTMTHx7NmzRpKSkqk/USlUoler2fEiBEkJyeTmZlJVFQULi4u3bL29CiFKH6oEydOsHLlStauXYvD4UCj0VBeXs7ChQv529/+xi233IK3t7fTc3a7nW+//ZaMjAxsNhsajYaQkBDuvvtuoqKiLmKvegaCINDY2Eh2djbffvstRUVFeHh4UFNTQ3JyMhs2bOCf//wnUVFRTorO4XCQmZlJcnIydXV1OBwO9Ho91113HVOnTu2RCrG1tZWamhoWL17M1q1b0el0UgLEjz/+yFtvvcWwYcOcFngRQRCwWCwUFhby8ccfs3XrVhwOBzt27OD111+XQoYXs98tLS2UlZWxdOlStmzZgqurK2azmerqalJSUvjnP//J2LFj0el05xyCEy387Oxshg8fTlBQkJOxZDAYMBgMkrFkNBrJzc2lpaWFcePGYTAYpL8V94Pi4uJITU0lNzeXyMjI85aDiCAI1NbW8scff/Ddd99RXV2Nq6srFRUVLF++nGuvvZannnoKX1/f817obTabZEgOGjTIydNVKBT4+vri6+sL/NeQrK6uxm63ExkZiaenp/QupVKJt7c3gwYNYvny5Rw9epT4+PhuVYgXSlYNDQ1s3bqVoKAgQkNDncahQqEgODiY4OBgqU12u53KykoEQWDw4MFOv61SqfD39yc0NJT09HRuvPFG9Hp9t8zBHhWwFq3Sr7/+mm+++Ybp06ezcOFCVqxYwbPPPovJZOKLL74gIyNDsiBEbDYbHh4e7N69m59++okNGzbg4uJy3pby5YIgCOzatYtXXnkFgHfeeYfly5fzzTffMGLECFauXMmyZcswmUztQs56vZ7q6mqWLVvGsmXLOH78OL6+vu2+QU/h2LFjvPzyy/z666888MAD/PjjjyxdupT77ruPvLw83n//fUpLS9v1UxAErFYrR44ckZThhAkTuOGGGyguLubtt99mz549mM3mi9r3kpIS3nrrLX7//XdmzpzJzz//zJIlS3j44YfJzs7m66+/pqys7LzaaLPZKCkpobm5mfDw8A6jMuLium/fPlJSUpgzZw5jxozh/vvvb7fPo1QqCQ4ORq1Wc/jw4XYRh/PBbreTkpLCSy+9RO/evfn4449JTk7miy++ICQkhHnz5rFp0yYp9H2+v5Wbm4ubmxt+fn6nVRo2m42jR4+yfft2QkJCuOOOO3B3d5f+XaFQoFQq6du3Lw6Hg4KCgi6Vy6nafypZ9e7du8tkVVlZSXFxMSEhIWfc8xONr3Xr1hEdHc3UqVPbRapcXV0JDQ2lvLwcs9l8Xm07HT3KQxQHSFRUFK+//jrjxo3D3d0dtVrNhAkT2LNnD0uWLCErK4sxY8ZIbrNCoUCr1TJs2DD69+9PWVkZw4YN495778XPz+9id6vH4O3tzR133MHUqVPx9/dHqVQSFhbGvffey+bNm9m9ezeVlZWEhYU57SmGhYVxxRVXsGHDBtzd3XnooYcYMmRIjw1FazQa4uLieOyxx4iPj8fNzQ1BEBg/fjybN28mNzeX9PR0oqOjnZ4zm83s37+f//znP9jtdt59912uvPJKACZPnsyCBQv46KOPaG5u5uqrr+7Wzf3TodfrSUxMZOTIkQwcOBAXFxc0Gg3Tp09n7dq1HDp0iOzsbHr37n3O59zsdjtVVVUIgiB5PB39TXZ2NitWrGDv3r1UVVWh1WqxWCztlLFCocDFxQWdTid5Al2FIAj4+/vz+OOPM23aNHx8fFCr1QwYMICpU6eyZ88efv31VyZMmEBAQMB5eRYOh4OKigq8vLxOG7az2WxUVFTw6aefYrPZeO2114iKiurwexgMBjQaDbW1td1uaJ1OVtOmTSM9Pb1LZNXQ0EBTUxMGg+G02xOCIJCXl8ecOXNQKpU88sgjREdHt5OTRqPBYDBgNBq7VUY9SiEC6HQ6brjhBpRKpVPIx8PDgxEjRrBgwQJKSkpobW1Fp9NJi7K4WdvS0oJOpyMxMRE/Pz80Gs3F7E6PQaFQEB8fz8CBA532CHQ6HaGhoQQFBVFWVkZ5eTl9+vRxeg7+CtOJZ4iGDBnSbSGLriA4OJiZM2dK/RTb6evrS79+/di7dy8HDx5s95wYZvXx8eHBBx9k8ODB6HQ6FAoF48ePJyQkhJSUFDZs2EBMTMxFU4jBwcHce++90tksQRDQaDR4eHgQExNDfn4+hw4dYtKkSe2ePZMiEmUlCAImkwngtHt9gwYNIiAggNraWlauXMmaNWuw2+08/fTTBAYGOr1X3HduaWk5l26fErVazcSJExEEATc3N2nNcHV1JTw8HG9vb44cOUJ1dTUBAQEdvqNtQp5oZCsUig4TyFpbW+nVq1eHBqH4jrKyMj7++GOKiop45plnSEpK6tDLBqT/bzabu9RQ6IjzkdXZjh34y7i0Wq2nDdubzWZKS0uZN28eBQUFvPzyywwbNqzDtUV0esRCCN1Fj1KICoUCjUYjKTFxT1GpVKJSqfD19UWtVtPY2Njh4GloaOD48eO4ubkRGxt7WaUwny+ihe7i4iLF7AVBQKVSodFo8PHxobCwkNra2nZybW1tpbi4GIfDQWhoKAEBAT26woZer5dC5WKildhPb29v6ThB26w6AC8vLx555BECAwOlg+QiKpWKqKgonnvuOWpra+nVq9cF75eITqeTrG4xmUypVKJUKqV2VVVVtbOkxcofp0JUWuK8EefhqcJnarUaf39//P39sdvtREREcPToUZKTk7njjjucFKLYVpvNdsaEps6iUCikUKQ4tuGvb+bm5oa7uzstLS00NDR0+Lz4THNzM2azGZVKhaurKy4uLjQ3N6NUKp32m7VardNB8pPfVV9fzyeffMLOnTv54IMPGDVqlLSPLZ5FbIvVakUQhAsyp04nK1dX11PKSpxHp1NG4jot7hmrVCosFkuHzwiCQGVlJbNnz6a4uJjXX3+dpKQklEolVqu1nREmbmd0txHe41Y1cbHav38/WVlZVFVV4eLiwsCBAzGZTO0yScVn7HY7x48f58SJE/Tr14+IiIge68FcLEwmE6WlpezatYvCwkKsVithYWEEBwd3mKUrUl9fT2FhIUqlkujo6G7L8Ooq7HY79fX17Nq1i7y8POrq6vD29iY8PJzW1lapryIWi4WSkhJSUlLYsWMHLi4u3HvvvVx33XVotVppbP3888+UlZWhUCi45557GD58+EXpn3jwW0xQaWhowNfXl4iICGkPuO13FKuF/Prrr+zYsUNSnm3/3eFw4OPjw3XXXUdsbKxkgAJUV1e3Mx5yc3PJzc3lyiuvxMfHB0BSHGJFmrY4HA5aW1sxm80EBgZ2+fhpbW3lyJEjpKamcvz4cWlvrm1yWEcKzGQyUVhYyNq1a9m3b5+kACMjI4mKiuLAgQMkJSVx++23S8ZCYGAgjY2NtLS0tFvsa2pq+O677ygqKuKVV14hPj4ei8XCsWPH2Lx5M9deey3h4eFOz9TV1WGxWPDx8bkg2xCdlZXZbCY/P59169ZRXl7uFHURM9cBhgwZwq233oqHhwcGgwEPDw/q6uqkSIOIIAjU1NSwYsUK8vPzeeyxx4iJicFqtXLgwAEyMzN58MEHnQwnq9VKXV2dU1SwO+hRCtFut9PQ0EBycjI///wztbW19O3bF41Gw86dO9FoNE5ueNtJZbFYKCoqorGxkYiICHnvsA3iEYSsrCy+/vpr/vjjD3x8fAgODiYnJ4eWlhaKi4tRq9XtkpDEwVtSUoJOp5OqlPRExMl57NgxvvnmGzZt2oQgCERERFBYWMhvv/1GS0uLkwUqhgaXLVvG7t27qaioIC8vD7VazdChQ+nduzeCIKDT6WhoaOC7775DrVYzZsyYC64QxYhJaWkpCxcu5Ndff8Vms9G3b1+OHj3K6tWrsVgsWCwWJ6NFEASam5tJTk7ml19+YciQIfTr108KXx48eJD8/HySkpKYMGEC8Jf316dPH1xdXSkqKpJkJr4zOzub2bNnU11dzZQpU9BoNGRmZlJaWsro0aMlJSki7r3ZbDbpt7sCu92O0Whky5YtLFiwgIKCAoKCgujVqxd//PEHLS0tVFRU0KtXLyevQ5Tl/v37mTNnDhkZGQwfPpxJkyZhs9lYsWIFS5YsQa1WM2zYMEnxKZVK+vfvL5Vra6vcbDYbBw4cYMmSJfTq1Yu0tDT279+PzWajuLiYmpoaRo8e7dQGh8MhGZvh4eHd6iWeq6ysViuZmZksWLCA1tZW6RiFw+GgpqaGtLQ0BEHg+eefl+Tk5+dHSEgIZWVlNDY2OkULHA4H6enpLFmyBKVSybZt29i7dy8Oh4Ps7GwsFgv33nuvk0JsbW2ltLSUwMDALj2uczI9SiFaLBYWLlzInDlz8PPzY+7cuVLyxg8//MCrr76K1Wp1Kg8F/z2TlZ+fj9VqZeDAgbi5ufVoL+ZCYrPZOHz4MO+88w7p6em88MILPPTQQ3h4eFBeXs7TTz9NcXEx/fv3dzovBH8N3vLyciorKwkICKBfv34XsSenx+FwUFdXx0cffcTPP//MmDFjeP311xkwYABms5n58+fzzjvvAEgHzO12O0ePHiUnJ4fnn3+e1tZWZsyYweHDhykoKCAgIAC9Xo+/vz/jxo0jJSUFg8EgpYxf6P41NjbyxRdf8PXXX3PNNdfw9ttvExYWhtFo5KuvvuKtt97C1dXVSSEJgkBFRQWVlZXcfvvtvPzyywQHByMIAhs3buSll14iLCyMxx57jMTERGlRDg0NlYyJ2tpa/P39JUUmHh948803mTdvHlqtlrKyMiZPnsyLL77YLlxqt9vJycmRoj1dtfCbzWZ+//133nnnHcrKyvjXv/7F1KlT0el0FBQU8OSTT1JRUUHv3r2dMjzFzMbZs2ezYcMGHnvsMWbNmoW3tzdWqxW9Xs9zzz1HRESEU2Ud0VDaunUrhw8fJi4uDp1OJxlWW7dupaioiKKiIrKysqR9SI1GQ2JiIi4uLk7fRTRI/P39T5l001Wcq6zE9SMgIIB//vOfjBkzBo1GQ1NTE6+++io6nY7rrruOu+++WypB5+Pjw+jRo1m8eDGlpaVSApu4VqekpFBYWCidpRWNbJVKxahRo9q1vba2lvz8fO66665ujVD1GIXY2tpKWloac+fOxcvLi+eee46YmBip84MHD6ZXr140NTXh6+srJTvAXwtFfX09R48exd3dncjIyG61Ii4l7HY7jY2NfPnll+Tl5XHrrbdy3333SZlt3t7eJCYm8ssvv2AwGPDx8XHyLMxmMyUlJTQ2NpKUlHTKpISeQEtLCytXrmTr1q306dOHF198kejoaHQ6HRqNhujoaDw9PbFYLISEhAB/WfwDBgzgzTffxM/Pj4aGBsLDw6mrq6O4uJiEhATp/eJRhquuuoqwsLAL2jfxfOTq1atZu3YtgwYN4p///CehoaFSEkJSUhKurq64uroSFBQkLTJKpRIXFxduvPFGxo4dS3BwMHa7nczMTObNmwfA008/zTXXXOOUhObi4sJtt93G3Llz2bFjB9ddd52kCMeMGcPSpUs5fvw4dXV1wH+9gpMPl1utVqqqqkhNTSUxMZGwsLAu8RDFUPa8efOora3lscceY9q0adKi7O/vT0xMDKmpqfj7+zudATQajaxbt47MzEyGDx/OQw89hI+Pj1RAWlx3IiIiCA4OdlKIAwYMYMCAAWzdupXJkyej0+lQq9VotVqefvppHnjggXahVHGPru1epNFoZM+ePZw4cYJbb70VHx+fbou+nI+s9Ho9gwYNYuTIkdIYKy8vZ8GCBWzZsoWxY8fy97//nYCAAKn9er2eiRMnsmbNGrKyshg2bJhUqUav1/Pee+/x+uuvt9uiUalU7fbIW1pa2Lt3L+7u7tJ+7GWvEKuqqli6dCnV1dWMGTNGqozRdiBqtVrc3NwICgpyEoogCBQVFVFeXo6vry99+vTpltJQlyJWq5WMjAzWrl1LUFAQt9xyi6QM4b8DUDws27byhrj3VFBQgNVqZdCgQRf9UPqpcDgcnDhxguTkZJqbm7nnnnsYMmSIVFlGLKoshoXFUJeoLNoeFI+OjmbHjh2UlJRIVx6ZTCaysrLw8vLi+uuvdzp4fqH6V15ezjfffIPJZGL69On07dtX8jiUSiUajUY67B0SEuKkEKOjoyUr3WKxcPjwYSmhYcaMGdx5550dnh0cPXo0+fn5rF+/nn79+jFo0CC0Wi3u7u64u7uf1lMW9zKrqqr46aef0Ol0TJw40WmMnQ9ms5kdO3awfft2kpKSuPXWW6VjWuK1QaKC69u3rzR2HQ4HDQ0NrFy5Ervdzi233CKF4sQ219fXY7fbiYmJcYqaiIlE1157LZ988gmrVq3i1ltvdTIw2xYNOZVcxH3r1atXM2LECCZNmtStlZ/OVVbwl3K75557gL8Ua1NTE6tWreKHH34gOjqaJ554gtjYWKe2i4VRbr75ZlJTU8nIyGD06NHo9XpUKtVZbWnZ7XbMZjP79u3j999/5/rrr+/2sHKP2Qw6cuQIGRkZ0hmrk62lqqoqGhsb6dWrFyEhIU4KTxAEDh48SGNjI2FhYd1qaV1qNDY2smHDBpqamujfvz8DBw50yuK1Wq0UFRVJWZRtU7HF6jZHjx5Fq9UyaNCgLs8Q7CpsNhuHDh0iKysLPz8/xo8fL02ctqWqWlpaCAoKOqWHp1KpGDRoEAqFgmPHjknXGxUXF5Obm8uYMWMYOnToBZeD2WwmMzOTvLw8fH19JUtdxGazUVZWhtFolKqAdDQHBEHg2LFjfPTRR6SmpnLrrbfyyCOPdHjbgpi1euedd9K3b1/mzJnDjh07pKzIM2G1Wjl69Cgff/wx+/fv5+WXX263cJ4rYlGA9evXY7FYSEhIoHfv3pLnKYYwKyoq0Gq1xMXFSfvjNpuN/Px8srOzCQoKIiEhwWmsmM1mCgoKUCgU9O/fv923VqlUJCUl8cILL7B+/XrmzJlDWVnZWR+qF6vdzJ49G71ez/3333/K79UVnI+sTn6P2Wxm3bp1fPvtt3h7e/PGG2+QmJjY4TfV6/XcdtttXHHFFXz++eesWrWK+vr6s253fX09a9as4b333mP48OHMmDGj2w3RHuEhOhwOioqKqK6uxmAw0L9/f6ePJQiCVBYqKiqKPn36OClDm83Gn3/+KZVHahv//l+npqaGvLw8NBoNERER7TLZqqqqOHjwIAaDgejoaKczQA6Hg9LSUioqKvDx8SEiIqLHnuu0WCwcPHiQhoYGIiIi6NOnj5NiFz3d1tZW4uLi2u1xiYiFIcRkEvGKoy1btqDT6bjzzjtxcXG54AaXyWSSEjREhd7WUjYajWRmZuJwOIiOju7QKLRYLFRVVfHJJ5+wa9cupk6dyj333HNaA1KtVhMQEMDjjz9OVlYWO3bskLK4z4TNZiMzM5NBgwYxa9asLk+IKC8v58iRI7i7u7erb+lwOCgrK6OkpISAgABiYmKksWuxWNi/fz+NjY2Eh4c73TLhcDioqqpi//79+Pj4EB4e3uE9fC4uLiQmJvLRRx+xZcsWsrKyzno7oa6ujvXr13PNNdeQkJAgHSfrTs5VVm1pampiz549fPjhh7i5ufH888+f1khWqVQYDAZuvfVWYmJi2LlzJwcOHGDs2LFnbK8gCBQWFlJWVsZrr71GdHQ03t7el/+xC1Gh1dbWYjKZiIyMxN/f3+nfGxsb2bt3L3a7nWHDhjkNPLH6vJgZKC5mMn/R0NAgpSsHBQU5KTzxuppjx44RHh5OVFSU04LlcDjIzc2lvr6esLCwLqkF2V1YrVaOHTuGIAiEhIRI18zAX/2ora1l//79aLVarrzySqnw8skolUr69OmDt7c35eXlNDQ00NLSwrZt25g6depFy7I1Go1UVlZK+z0Gg8GpHRUVFezZsweDwcCQIUPw9PRsd7SiqqqKhQsXsmHDBuLi4nj22WcJDQ2VwohipaiT0el0+Pv7M3nyZCZPnnzWbXZ1dZVCbd1BVVUVTU1NeHp6EhAQ4LSI2+12MjIyqKmpITY2ViobB3+NlYKCAuCvYg3iWBHXoq1bt1JYWEhISIhTIlFbxKLTUVFRna6V7O/vz5tvvnkePe885yor+G8kKT09nffeew+TycTjjz/O5MmTpcPybYsZtEWhUODt7c2YMWMYM2bMWbdXoVAwYsQIRowYcf6d7wQ9Iq7Y9tyUu7u7k8UhWv55eXm4u7szceJEp70Om83G8ePHKSsrw9XVlcjIyB4b1rsYiIdpNRqN056seC5s06ZNGI1GRo8eTWhoqNOzDoeDffv2YbVapfOHPRExfCcWcTi5Wr/dbufPP//k8OHDxMbGSjemdIRSqcTX11eqvnLs2DF27dqFi4sLY8eOvWhnMMU5Ip71a+u1CIJAeno6BQUFxMTEtLteSUxMWLlyJV9//TVDhw7l1VdflWpoHjhwgO3bt9PU1HTB+3U+iGuGWBJORMzGXbduHSqViokTJzoliQiCQFNTEwqFwqmSiqgov//+e5qamqS9tLZVbC5VzlVWgLSPN3fuXIqKinjqqae4+eab0el01NfXs337dimacqnTIxSiSqXCy8sLvV7vdDeX3W6nrq6OX375herqaiZOnMjQoUOdrBuxGHNLSwsGg6HbN10vNTw8PKQzQy/oQswAACAASURBVFarVUoSMRqNZGRkkJGRgY+PDzfccINTqr54TVROTo7keffUQuliZQzxwHfbMWSxWKSSbHa7nZtuuskpG+5klEolnp6e9O7dm9bWVlJTU9myZQtTp0512ne50Oj1enx9faX+Wa1W6XxpcXEx69evx263c/311xMZGSkpQ/Hs2YYNG5g/fz7BwcE89dRTREdHo1AoKC0t5b333uuy4tcXEm9vb9zc3KQ7L8UD5c3NzWzdupX9+/cTHR3N1Vdf7RQ1UiqVuLq6SuczjUYjZrOZEydOsGjRInQ6HXq9nqCgICmZ6fDhw5ecfNpyNrLq379/O1mZzWaqqqr47LPPyMnJYcaMGdx+++14enpiMpnYtGkTc+bM6fL6tBeLi64QxcUsOjqa4OBgKioqyM/Px2g0UlNTw+bNm1myZAnR0dE8+eST7ax/k8lEbm4udrudgICAdu7+/zoBAQEMHToUi8XCoUOHqKuro7W1lZycHObOnUtzczN33XUXI0eOdPIA7XY7FRUVlJSU4Obm1uOPsuh0OoYPH463tzf5+fnS3XPiIfbdu3eTmJjIjTfeeNo9ZnGxFI8mzJs3j4iICK6//voOr4u6ULi6upKYmIhOp6OkpIRjx47R2trKsWPH+P7779m3bx+JiYnSYiViNptJTU3ltddew2w2M2PGDHx8fKiurubIkSN89dVX/P777/j7+/fo79sRYWFhDB48mLq6OvLz82lubqa5uZldu3Yxb948PD09ue2224iJiXHqm0ajYfDgwSiVSrKzs9m3bx+5ubl8//33VFZWMnjwYNRqNUajkezsbN5//31+/fXXdhVXLiXOVVaVlZV8/PHHrF69moSEBKZMmUJjYyPHjh1j586dvP/++9JRuJ6Yfd5ZeozmiIuL48EHH2Tu3Ln8+9//5pdffpEyHEePHs3DDz8s3dXXFvH8oXhzw8l7K//reHt7M2PGDAoKCtiyZYtUCq+goACTycSsWbO47bbb2m2iW61WDh8+TGNjI8HBwT3e81ar1QwfPpyHH36Y9evX8+qrrxIUFERFRQWlpaXcfvvtUjbfmbw8jUZDQEAAnp6eDB06lBkzZpxyz/FCodPpuPLKK5kxYwYbN27ktddeo3fv3lL/pk6dykMPPeSUIAJQUFDA/Pnzqa2tRa/X88MPP0iX/ra0tEgZxicvhD0dhUKBn58fjzzyCBUVFSxevJh9+/ZJGaSurq68+uqrXHvtte3WA51Ox7hx40hKSuLgwYO89NJL+Pr6Ehsby6xZs8jNzWX9+vWsXbuWgwcPcvXVV3PjjTf22C2DM3EushIjdGvWrGHFihWS8fDKK6+gUqmke2srKiqIi4vr0fkFnUEh9BA/Vyzbtnv3blJTUzlx4gRubm4MHz6chIQEqYxUWwRBYPfu3bzwwgsUFhby//7f/2PmzJmXhaXSlYg3x6elpZGTk4Pdbqdfv34MGzaM+Ph4p8P4IjU1NXz66afMmTOHSZMm8fHHH+Pn59ejlaLFYqGyslIaQ83NzZKHnJiYSGBg4BmzZMUiz4sWLWLJkiW8++67JCYmXlTvUETcL09PTyctLY2mpib8/f2Jj49n5MiRHYZ0y8vLyc7Opqmp6ZSFvd3d3UlISMDb27tHf9+OaGpqYt++faSlpZGfn49WqyUmJoZhw4YRGxt7SkOmpaWFzMxMyUiMi4tj3Lhx9O3blxMnTrB27Vpyc3MZNWoUo0aNcspavlTpjKzEsnL79u077f6gSqUiLCyMoUOHtiuneSnSYxQicMrN67Z387XFbrezdOlSXn75ZXr16sWXX37JyJEjL1h7LyU6ujblVJlh8Ffx5pdeeondu3fzt7/9jVdeeeWSKHZwujF0Nm03mUykpqby+eefc/XVV3Pfffd1eEbvYtHZ/p1NQsjpxkFP51T9O1OfOnpOlOGproK61DkXWZ3NdUunyk6+FOlR5uDZDDzRcrFarRw/fpytW7diNBqZPn16p9Of/5c4mwEr3nZhMpnYtWsXBw8eJDIykgkTJlwSyhDObgy1xWw2U1lZCfyVuJKbm8u8efOIjY2VwmQ9qd+d7d/lspifinPt3+meu1xldi79ulwU3dnSoxTimRArKhw8eJCCggLS0tLIzMxkzJgx3HXXXXh4eFzsJl7SlJSUcPDgQYqLi1m5ciVarZZHH32UgQMHXpYLBEBzczPfffcdTU1N+Pn5kZ6eTmhoKLfddptU71RGRuZ/g0tKIYoV6j/++GPS0tLw9/fnjjvu4I477pDKucmcG3a7nRUrVjBv3jzUajUjRozgxRdfJDEx8bIudFBeXs5vv/0mVfO/7777eOCBB9pdXyQjI3P506P2EM+EeO6quroak8mEXq/H3d1dqspxuXoxF4rKykoaGhqkQ/weHh5OB5cvR8rLy9m8eTPNzc3ExsYSHR2NwWCQjSsZmf9BLimFKCMjIyMj011cvqa/jIyMjIxMJ5DjQt2EWC+xvr6+0yWNVCoVWq0WLy8vuS6rjIyMzAXinBSiHGX9i9OdcbLb7fz+++989dVXmEymTslMp9MRHx/PE088QVBQUKfbdbG+T1fu4V7OY+xc5CTLw5nLWR4gy+R8Ode1qNMK0WazYbFYzunHLidUKhUqlarD5AvxvI+npydhYWFYLJZODVbxDrpzLaVlsVhOWZWkuzj55oDz4XIeYxqNplN3SorGlc1mw+FwdGPLLh46na5TZb/E87JiAffLDaVSiU6n69SibrfbJZn8r6NWq8957ex0Us2WLVt4//33z+nHLic8PDz49ttvT1nFRKykL4ZMOyNmcUIYDIZz+rCvvfYaGRkZnX7ufNDpdCQnJ3dJiDcvL49//OMfXdCqnscTTzzBjTfeeNZ/b7VaycnJ4a233qK1tbUbW3ZxUCqVfP311/Tu3fusnzGZTPzwww+sWrUKs9ncja27OLi4uPDzzz93au63tLTw4osvUlBQcMGN4Z7G+PHjefHFF8/p2U57iKWlpfz222/n9GOXCwqFgj59+lBXV4ebm1uH1q1CocDDw+OiFAvIzs6+4N/I29sbo9HYJQqxurqaTZs2XZYe0fXXX9+pv7darZSVlZGWliZV1Lmc0Gq11NXVdUohGo1Gjh49yu+//059fX03tu7i4Ovri9ls7pRCbGpqYv/+/WRkZFzSt3J0BYGBgef8bKcVYnx8/AW/7bkn4ubmhq+v72lDhGJo51xQKBSoVKpzioXfeeedDB8+/Jx+91zRarVddoA/PDycN95447IMh40aNapTfy8WYH722Wcvy4VOqVR2ep/czc2NCRMm4OnpeVmG1sX7GDuDl5cX999/P5MnT/6f9xBjY2PP+Vn5HGI34XA4yM/PJz09vdNxfZVKRVBQEElJSXI5OhkZGZkLhHzsohsQEyF27drFa6+9htFo7FT4T6/XM27cOKKiomSFKCMjI3OBuOw9RPF+u7y8PPR6PdHR0ej1eqdrXsC5ErwgCBw+fJgTJ04QGRmJr69vp5NbHA4Hhw8fJiMj45w9xJEjRzrdfn45YLFYqKiooKKiAg8PD0JDQ3Fxcekx5eHE21Rqamo4evQobm5u0pgR/72jMSPW2S0tLSUgIIDg4OCzyhS02+0UFRVRX1+PVqulb9++PeLuxbaIfa6urqa4uBitVku/fv2kdnZ0jRL81bfGxkYOHz6Mi4sL/fr1Q6/Xn/FbWywWysrKqKmpQaPREB0d3emsy+7G4XBgsVgoKiqioaGB8PBwevXqJWWdtzWA246ThoYGDh8+jFqtJiwsDG9v77O+lqyyspKqqir0ej2RkZGXfFlFq9VKfX09hYWFqNVq4uLipHyM082zyspK8vLyiIyMJCgoCI1G02Vjo0s9xFN14mIgLmwVFRWsWrWKvLw8rr76aiIiIlAoFNhsNlpaWqitrcVms+Hp6Ymvr6808aqqqli/fj16vZ5p06YxcOBANBrNWQ9ApVLJgAEDGDBgQDf39OxwOBzYbDYpVV2hUKDRaFCpVGfskyhLs9mMIAio1epOyaItFouFlStXsnLlSgYPHswzzzzTqctXu3OMiZ798ePHWblyJWVlZdKYUalUmM1mmpubqaurA8DHxwdPT080Gg2CINDQ0MCOHTtoaWnhuuuuIz4+/oy3rDscDpYuXcr27dsJDw/nlVde6ZRCvBBzzmq1UlpayqpVq6isrGT06NGEhoai0+kwmUyYTCZqa2sxGo14enri4+Mj7ScbjUb27dtHdnY248aNY8KECXh5eZ32e1ssFtauXcu6devw8/Pjww8/xM/P76z7JspDHOfQ9Wdkm5ub2bVrF7/++qtkNHt6emK1WjEajTQ0NNDU1IROp8Pf3x9XV1e0Wi0Wi4X8/HyysrKIiopiypQp+Pv7n/EoTmtrK6tWreKXX36hd+/e/N///R8hISE9Yt6cCxaLhePHj7N69WoqKytJSkpiyJAhkqFhMpmoqanBbDbj7u6Or68vrq6uOBwOGhsb2bJlC9u2bWPatGnExsae83p0Ml2mEMUEEtEyUqvVF7Xgtt1up6amhi+++IKSkhJeeuklIiIiUKvV7N27l6VLl5KRkYGrqyutra20tLRwyy23MHPmTHx8fEhMTCQ8PJyffvqJuXPnMnPmTIYMGXJJVo5xOByYTCZyc3P5/fffOX78OEFBQYwfP57+/ftLHvOpsNlsVFVVsWjRIurr65k4cSJJSUm4u7t3ui02m42SkhL++OMP1Go1ra2tZ508IwiC03k88SxoV40xh8NBbW0t7777Lp6enjz22GP06dMHq9VKRkYGP/74I/v27cPDw0Py6O655x5uvPFGfH196d+/P76+vmzYsIEPPviAJ554gokTJ54x8aqwsJCsrCyMRiNGo7FT7RUNHTEJqyvlAX/JvLy8nA8++ABfX18effRRgoKCUCqVFBQU8O2335KVlSUtZBaLhWHDhvHss88SHh5OQEAAd955JwMHDuTDDz+koaGBO++887RRAZvNxrFjx9i7dy9BQUGdPlohrkWCIKBUKiWvoyvkIggCVquVDRs2sGDBAmbNmsWoUaNwd3enqqqKlJQU1q1bh81mQ6VSUVlZSVxcHLNmzSIuLg4fHx9uuOEGhg4dyvz58ykoKOCpp54iKCjotO2zWCyUlJSQlZVFQ0NDp4p9dPe86SwOh4Py8nJmz56NRqPh/vvvp2/fvqhUKvbu3UtycjJ79uyR2t7Q0MD48eN56qmnCAwMJDIykn/84x/89NNPvPnmm7z66qsMHTq004lIHaF644033jjXh0XPobKykuzsbH7++WeWLVvGb7/9xvHjxzEYDHh4eDgpxhMnTlBaWkp5eTknTpygtrYWq9WKRqNxCjeIA6C2thatVuvkydTX10vvqKyspLq6GrPZjE6nk97R3NzM6tWr2b17N3//+98ZPHgwer0eh8PBjz/+yLZt27j11lt58sknGTNmDIcPH2bz5s34+/szePBgtFotLi4uhISE8Mcff5CTk0NSUtIZlUdPo6WlhWPHjvHNN9+waNEiqqqqqK+vJy0tjV9++YWgoCB69+6NVqtt1y9BECSL9qOPPmL16tXk5ubyxx9/EBISIhUP6Iw8BEHgyJEjNDU1ERMTw1VXXXVaj0EcY9XV1Rw4cICUlBSWLVvGhg0bKCgowNPTEy8vry6xeuvr6/nhhx/4448/eOKJJxg0aBAajYampiaWLFlCeno6jzzyCDNnzmTYsGGkpaWxfft2IiMj6d+/PyqVCp1OR3h4OPv27SM1NZXhw4fj7u5+2oPnubm5mM1m+vfvz8SJE88YJrdYLNTV1ZGdnU1ycjIrVqzgl19+oaSkBC8vL1xcXM75YHJbRE9ozZo1ZGRk8PjjjxMVFYVOp8Nut7Np0ya+//57xo0bx7PPPsv06dOprKxk2bJl+Pn5ER8fj1arRafT0atXLwRB4LfffiM0NJTAwMBT3igiCIIUiuzbty9TpkzBzc3ttN9XNPqKiorYvn07S5cuJSUlhT179mAymaToz/l6EVarldzcXBYtWsSoUaO46aabpNt2Dhw4wJw5cwgPD+e5557jxhtvRKfTsWHDBoqKipg8eTJ6vR6NRoO7uzseHh4sW7aMwMBAwsLCTnsJt81mo6ioiObmZiIjI5k4ceIZ543dbqe2tpY///yTlStXkpyczPr16yktLZVuCRLHpTjHioqKOHHihLSuAlLUTKFQ4HA4aG5upqKigqqqKlxdXaV2i95bYWEhlZWVUojXarVKBpAgCBiNRr766iuys7N58skniYqKwsXFBbvdzurVq0lOTua6667jmWeeYdKkSeTn57Njxw5cXFwYPHgwbm5uuLq6EhISIhn5orFxvmvAeSlEm81GYWEh3377LfPnz6epqUmyHH/88Ueqq6uJj4+XlKIgCOzYsYP//Oc/LFy4kNWrV7N9+3YUCgVRUVFSmMVms3Ho0CH+7//+j99++43+/fvj7+8vTaCcnBz+85//8O2337Jy5Up+++03amtrSUxMRK/XIwgCZWVlfPLJJ4wYMYKpU6dKH0T0HGNiYqRLYA0GA62trezZswe9Xs8111wjebgeHh40NjaSnJzM8OHDCQ4O7lRVjYtNcXEx7733Hnv37uWBBx6QJqqrqyurVq3iyJEjJCUltQtJiZZwfn4+c+bMYceOHUyaNImkpCSys7P5888/8fPzIzQ09LQT+WQ0Gg1JSUncf//9XH/99RgMhjN6UGVlZfz44498+eWXVFVVoVQqOX78OEuWLOHIkSPEx8djMBjO+7v8+eefzJs3j2uvvZZrrrlGWoRNJhONjY2MGjWKKVOmEBQUhK+vL7W1tWzdupXBgwczYsQIyUvT6XS4uLiwceNG3NzciIqKOqX1qlQqufLKK5kxYwZTp049ozJ0OBwUFxezZMkSSR5arZaCggJSUlI4evQoMTExBAQEnPfiIBovX3/9NQkJCdJRB3HLwWQy4ePjw+23387AgQOlBWndunV4e3tz9dVXSwakQqHA29ub9PR0CgsLueKKK04pE41GQ0JCAvfeey833XTTGZUh/BVS3L17N5999hnbt2+XvMRdu3axfPly/Pz8GDBgwHkbCkajkSVLllBRUcGMGTMICgpCrVZLtYt1Oh233XYbsbGx+Pj44OXlxZ49eygoKHBSnqIDcPjwYXJyckhISJBk2xF6vZ6RI0dy7733csMNN5xx3ohr4JIlS5g/fz41NTWo1WpKSkpYuXIl+/fvJyEhAW9vb5RKJVarlc2bN/P++++zZMkS1qxZw86dO/H19aVfv36SR2m1WsnKyuLdd99ly5YtjB07VipOYrfbOXjwIG+//TaLFy9m1apVbNq0CYVCQUxMDDqdTlrbZ8+ezbhx47jlllukqJsgCNTX1+Pv78/MmTMJCwujV69e6HQ6tm3bhl6vZ/To0ZKc9Ho9/v7+LF68WHJkzjcqeV4h0/r6epYsWUJ+fj4vv/wycXFxuLi4UF5ezuuvv05aWhq//vor99xzD+7u7igUChISEjh8+DCbNm1Co9EwatQoJk+ejJeXl9N7165dy65du/Dx8aGpqckpPNC3b1+uvfZaNm7ciM1m4/rrr+fmm2+W9l6sVisFBQWUlpZy//334+rqKglJrVZz7bXXSoNSVJItLS0olUqnhURc4Pr164fBYGDz5s0MHjzYqa09Hb1eT2JiIjNnzmTQoEG4ubkhCAKjR4/miiuuID09nV27dhETE+M0wcxmM/v27eODDz4A4F//+hdJSUloNBomTpzId999x8cff0xLSwtTpkzptgt1TSYTa9asIT09nccee0wKT4mhzdTUVFJSUnj88cfx8/M7p98Qrem9e/dSU1PD6NGjnc5Uenp6Mn36dKfwW3NzM6Wlpfj6+hIWFuYUglIoFAwYMIDw8HB27tzJ+PHju2TMCIKA2Wxm8+bNbN68mVmzZpGUlISbmxtlZWV8+umnrF27luHDh0sG5vl4RA6Hg507d1JZWUliYqJTiFyr1ZKQkEB8fLykEEQvzW634+vr6+QBqlQq/P396du3L+vWraO2tvaMnnNnyM/P57PPPqNv377MmjVLyhXYtGkT//rXv1iwYAGxsbEkJCSc84Ipekfbt29nyJAhhISEOIVj+/XrR2RkpBSSFPfC7HY7Pj4+uLi4OP22l5cXiYmJzJ8/n7179xISEtIlsoC/toySk5PZunUrjz76KKNHj8bNzY3a2lree+89NmzYQHJyMk888QS+vr5oNBri4+OJjo4mMzMTnU7HtGnTGDFihJS0IggCJpOJpUuXsm3bNoKCgrBardJvqlQq+vTpwxVXXMHnn39OfX09DzzwABMmTJDW/9bWVlJTUxEEgaSkJKfvr1KpGDt2rGQsibJqaWkBoFevXk57rWq1mr59+xIUFER2djZ1dXX06tXrvMbUeSlEnU7HqFGjmDZtmtMEdHFx4brrriMnJ4edO3dy2223Sc94e3szYsQIXF1dUalUjBo1iuDgYKmjogW8ceNGGhoa8PDwaJfF5ubmJsWcw8PDeeCBB4iOjpYmoNVq5dChQ9IkbOvBKJVKp8XOYrFQVVVFamoqoaGh3HDDDU6LiEKhoFevXgQHB5OTk3PJlYoKCAjg3nvvdaoXqVQqMRgM9OvXj7S0NHJycto9V1dXx9KlSwkICODRRx+VrGvRqAkMDGT16tVs2rSJwYMHd5tCVCqVxMbGEh8fz8CBA/Hw8EClUuHh4cFNN93E7t27SUtL46677jovhdja2kphYSEuLi707t273cRTq9WYzWaampqoqalh9erVZGRkcP/99zNy5EinhU6hUODm5kZkZCSrV6+mrq6O8PDw85YF/CWP+Ph4IiIiGDlypGSd6/V6brzxRpYvX87evXupr68/q4zOUyEaCX/++SdarVYK6bVth2hUwl9Rnfr6enbt2kVAQAATJ0508sbEeRcUFER9fT1FRUVdGm3x9vbm7rvvJikpCX9/f8n7HD58OIMGDSI1NZX09HQSEhLO+TccDoe05XPNNdfg7u4uyVes5Stit9sxGo2kpqbS3NzMI488IikFEa1WS2RkJDabjb179zJlypRzbtvJKBQK4uLiiI+PZ+TIkej1elQqFd7e3owdO5ZNmzaxZ88ebr75ZqnAiJ+fH3FxcSxduhQXFxcSEhKcio9YLBYOHTrE+vXraWpqws/PD4fDISUvKRQKXF1dCQ4OxsXFBX9/fx599FGnsSNm/Pv4+NCnT5927W4bNbBYLNTU1LBmzRp8fHwkxSqiVColGR47doy6ujq8vb0vnkL09PTkmmuukf5bVFxKpZKIiAjc3NwoLCx0OnagVCpxd3eXvLm2g0Tcs8rIyODo0aOn3Bcym81kZmbicDiYPHkyI0aMcEqLt1gsFBcX4+Xl1W4QtkVMoli6dClHjx7lrbfekvaC2uLi4oKfnx/FxcWXXBUIrVYrZUGKxX/VajUqlQqDwYBCoaCurs7J4BAEAVdXV+6++2569epFQECA00BVKBQEBgby4IMPcsMNN+Dr69tt7XdxcWHMmDFObRMnYHh4OAaDgWPHjnVY5/Nskg5Ey1fMOPbw8HBa6Nq+q7q6mi+//JKNGzfS3NzMjBkzuPnmm+nVq1e792o0Gnx8fKirq+uyGqTiopuYmOjULkEQ0Gq1hIaG4uXlRWVlJU1NTfj7+3f4nrZZmOJ7T/4dca+nvLwcnU532v0q0XNasGCBtNcYHx/fLgFNqVRK+73Hjx/HZrN1WZJaWFgYYWFhUr/EMSIW2P/9998pKCjo8NkzjZO2Kf8VFRVYLBa8vLxOu39uNpvZvXs333//PdOmTePmm2/uUB7e3t5otVpKSko62+XTolarmTBhgvTfbdfmkJAQPDw8OHHiBDU1NdLfqFQqyQtTq9XtPPiGhgaWL19Oa2vrKbNizWYz2dnZ6HQ6Hn/8cSkbWaSlpYXy8nIMBsNptwfE+fb999+Tl5fHo48+ylVXXdVubRajenl5eTQ2Np53uccuyTK12WxYrVaam5ulvTetVotWq22XRSim+4spyG0VjN1up7S0lLS0NEaNGkV6enqHA66wsJB169YxcOBAJk2a1C7RRZygbRN1TsZqtVJVVcXcuXPJzMzklVdeYcyYMR1mX4nFti/F6vo2m42Ghga2bt1KdnY2NTU1eHp6Eh0dTVNTk5SNJ2K1WikpKeGnn35i27ZtqFQq7rzzTu644w50Op20p7d48WIKCwsBuPvuu7n66qu7vR82m43m5mYUCoWk6PV6PTU1NU7jSNz/rK6uPuU3UyqV6PV6aaG3Wq1YLBYpgetkFAoFBoOB66+/nhEjRpCdnc3atWvJyclh1qxZJCYmtossiGOmq40oMTxpsVik+SUmN+j1esxmc4dnX8XnTpw4QW5urnQWNCoqisDAQI4fPy6FoVQqFVarFZPJhKur6ynPegmCQEVFBcnJyWzYsIG77rqLm2+++ZQFJUT5NjY2dvlcEjNuTSYTRqMRV1dX7Ha7FBFqaWlxOooBf9UAbWhokDydkxENeIPBIEUSRAOkI3mIx5PWrl3L/PnzmT59OjNmzJD2DtvS9uhTZ7KLzxbRCLZarVLY0d3dXUp0MpvNTuUAxUiDaBC1XRsEQeDAgQNs27aNCRMmsHfv3nbystlsHD9+nM2bNzNs2DDGjx/fbv0Vx5S3t/cp12Yxz0MM+T799NNMmTLllJmxer2+y276OC+FaLFYaGxsJC0tjc2bN1NXV4darSYiIoKwsDDMZvMpB4FGo8FsNkuLhbiIbd++ncrKSm666SZycnKcFhNxEdi5cydHjx7l6aefJjo6ukMLV0zi6chisNvtVFVVsXDhQnbt2sXjjz/OlClTUKvV2O32Dj3TS63QtNj30tJS5s2bx6ZNm1Cr1fTv35+WlhZ27dpFa2srJpNJCm2J3nVKSgqZmZm0trayb98+VCoVo0ePlvZl3N3d8Apy/gAAHVJJREFU0el0LF++HIVC4eTBdTVWq5WmpiaysrL47bffqKioQKVSERoaytChQztcSOx2O/n5+bzzzjtSkWSVSiVNcpPJhFqtZtiwYTz88MP4+vo6ZdF1JEtR6YwaNQqFQsHIkSNRq9V89tlnREdHExsb226PyOFwdOmZL/GbNjQ0sGfPHrZu3UpFRYXkHQ4dOvSUBoDD4aClpYWMjAyWLl1KQUEBDocDlUqFu7s7AwYMoKSkhKlTpzrtiSqVylMqC/Hg/fr161m3bh0PPPAA11xzjZRRarfb2xkX4ru6+kB5a2urFF7bt28fRqMRNzc3hgwZIhlGJ8vSbrezfv16fv75Z+C/oXFxHhiNRlxcXBg7dixPPvkk8N+iA6caJ62trezYsYNFixaRlJTEzJkzJXl05JG39dy6ErvdLs2bDRs2UFFRgVKppG/fvgQGBkpr88nOipiJK8pH7Ku4ZtjtdiZPnsyhQ4faRT5aW1vZuHEjTU1NTJo0CT8/v3bfXxxTJxvibdvd0tLC8uXL2bJlC7fccgvTpk3Dw8MDq9UqOVwnPyO++3w5Z4UourRz585l0aJFaLVabrjhBtzc3NiyZQsHDhzAbDYTExPTrqHifVXi+RjxfQ0NDfz000+EhYUxbNgwNBpNOw+ypKSE7du3Exwc3GFWnihwg8GA0WhsV/xXTExYt24dy5Yt4+2332b8+PHodDoqKio4fvw4w4YNc2qz6P32tGoZp0MMB3/66af88MMPXHHFFbz++usMHjwYm83G4sWLeeGFFxAEQcoOtNvtFBcXk5OTwzPPPINKpeKOO+6gqKiIvLw8QkJCcHV1xdvbm+HDhxMYGIibm1uX7Y+djBjKXLx4MZ9//jlms5np06fj5+fHnj17mD9/PkajkeDg4HYJQZmZmWzcuFFK2+/duzd2u51jx46xaNEiNBrN/2/vTKOivO4//p1NZ2QZ2UEUZFEQGJFFCIuI4q4pJhq1VkVxPUZjeo6eNM0x57R9kS6pPWli9RxP457UgFhRqVYFEUQFEURQQUBlGYZlgBlgmIWZ+b/w3Nt5HBBQbGP+9/NOhJnnuc997u/+tu/FggUL6I6YtNmQOWPpSRiNRhomInPAwcEB4eHhVNVGp9NxIhVkESHh6ZEcj+PHj+P3v/897O3tkZSUBF9fX1y+fBn79+9Hd3c33NzcON9JFrfr169j9+7d4PF42LJlC1JSUtDc3Iy9e/fiq6++gre3N1atWkXvfdSoUbCxsUFPT0+/fW96vR45OTlIT0/H0qVLkZycjDFjxkCtVqO+vp4q01i+M729vTAYDLS6cSQwmUyoqKjAZ599hpKSEoSFhSExMREdHR04ePAgGhoarMKzZCxv3LiBnJwchIeHY86cOXBxcUFfXx9KSkpw6tQp+Pj4YNu2bdRokZxtb2+vlcE3mUx49OgR/vCHP9BWFDs7O2g0Gjx48ICG+C1TRGS+jaQ6Efncw4cP469//Sv4fD4WLVoET09P5Ofno6ysDCqVCj4+PlapEFJrQNZm4qhUV1ejpKQEiYmJ8PT0tJrTZrMZjx49QmZmJqKjoxEeHt5vOJzMKY1G0289Rm9vL65cuYJDhw5h48aNtP5BpVLh2bNn8Pf35+QRSXWvQCAY1jmjA/FKBtFsNtOii2PHjmHatGnYvXs3AgMDYTabsXDhQmzYsAGNjY1wcnKymvgkBEkGm/Q7ZWdno6OjA+vXr+835KLVanH16lW0tbVhw4YNnMllCZGWunDhAj2PkPyewWDArVu3cOzYMbi4uKC2thatra0wm80oLCyESqXC4cOHOQUBpO/Gsvjnx05vby+ysrJw9epVTJgwAZ988gkCAgJoZa2fnx8cHByg0Who7oX8/Le//S0cHR2h0WhowvrZs2fQ6/W0Ylcul0On02HhwoXw9/d/I/egUqlw9uxZ7N+/H97e3ti1axemT58OPp+P5ORkpKamoqqqyurcSIPBgJqaGsTHx2P79u10g1NeXo4LFy5ALBZj9erVdANHwmKurq64e/cu2tvbMXbsWBrSaWlpwf79+2kTsbu7O9ra2lBcXAx7e3sEBARwKpmB50ZZLpfDw8NjROT3iPdx8uRJfPvttwgMDMQnn3yC8PBwjBo1CvHx8fjoo49QWloKe3t7zubNaDSioqICBw4cgMFgwK9//WtOC8DcuXORlZUFV1dXTJgwgXqHYrEYvr6+KCwsREtLC5ydnelCqNPp8PjxY3z11Vfg8/no7u7G6dOnAQAPHjxAa2sr9u3bx8ntk1AYKYYbiXdJp9OhqqoK+/btQ1VVFVJTU+kz0uv1GD9+PH73u99BKBRyWouIp63X65GcnIw9e/bA1dUVZrMZ+fn5qKiowPjx47Fnzx5OOHzcuHGwsbGBUqmEVqul7VwmkwmNjY04dOgQ2traIBQKkZGRAaFQiIaGBmRnZ+PLL7/khE77+vqgUCjQ19c3oopWSqUS6enp+Nvf/kZ7IiMjIyEQCJCUlIRPP/0Ut27dgp2dHccQk+idUCjknNRDKpsBYPHixVaRFFJdfObMGWg0Gixbtgxubm79XhuRa7x79y7a2to4x36ZTCYUFxdj3759dHOalpZG23+ampqwd+9ejkE0mUyor6+Hg4PDaxfUAK9oEI1GI4qLi3HixAkIBAKsX78eUVFRdIILhUJ4enqitbW1X3khy4os4iHK5XJcuHABU6dORVRUFMczJN6LUqnE+fPnERAQgBkzZgwYxx81ahQCAgLA5/Ppwk0WCIPBgHPnzqGlpQUmkwkHDhwA8J/Yf0JCAueziPCAXC7HqlWr3gqlGvKy//DDD1CpVNi4cSNCQkJoLoW0D5BqTV9fX+pZk8Zy4HmSPSgoCE+ePEFdXR0MBgMdp/v372PMmDFYsmTJG6kwJTmLgwcPQqvVYvny5Zy+tjFjxsDHxwdPnz6Fu7u71U53zpw5WLRoEYKCgiCRSCCXy5GWlobS0lKsXbsWGzZs4CyQEokEkydPxvnz51FdXY0JEyZQg0iiCnl5eejq6qLhxbt372L58uU0wmB57R0dHaiurkZwcDAcHBxeezxIQ/iBAwfQ19eHlJQU2pMFAD4+Ppg0aRLKysrg4uJCK76Jt3Ds2DFUVFQgKSkJc+bModckFAqpVzBhwgROVaFAIEBUVBRu376Nx48f06Z84Pl7m52djYaGBpjNZhw7doz+vLe3l4bRyWaUNG3X19dj3Lhx8PLyeu3Fi2ykz549i9u3byMgIADbtm2jz85sNlOBfJ1Ox6lqJHNo5cqVcHZ2hp+fH4xGI+7du4evv/4aKpUKmzZtwpw5c+jmnM/nw9nZGZMmTUJjYyM6Ozs5zf4lJSU01fD9999TT6u3txdSqdRq7dBqtXj06BHGjBljFZV61fEwmUwoLy/HyZMnodVqsWLFCsyfP58aOaFQSNdkFxcXTjsQiQqQimqSt1cqlbhy5QpiY2MxefJkVFdXc8K/5BDrgoICREZGIiYmZkDJQhLGzsnJQU1NDaZOnUpzljqdDjdu3KDh3W+//RbAf5SHYmJiOLaEhIVra2sRExMDR0fH1446DNsgkl6UkydPQi6XY/78+VRLjtwYSW5LJBIql2YJKWggHiIxsA8fPsQXX3xBE/yWg67VanHt2jXaW9if204gOaaQkBCUlZVh4cKFtD9FIpHg888/x69+9Sua47Fk9OjR1LCTh/TgwQOYTCbMnj17xM78e5OQ5tfi4mJ4eHggISGBc09kc6FWqzF58mRqEF9EIBBAJpPh4sWLaGhooEVQ9fX1ePjwIRISEhARETHimwSSw8nMzERNTQ2io6PpS2Y5xwwGA20JsHwB7ezsEBsbS//d1dWFP/7xj7h48SIWLFiALVu2wNPTk3PPfD4fERER8PHxoUUB5DPd3Nywd+9eyOVyqqASFxeHjRs3cnQ7CSaTCXfu3EFTUxPWrFkzIgZRpVLh9OnTaGhoQGJiImbNmsW5Z/LOiUQieHp60mb2vr4+PHv2DBcvXqTtUJYbGPL/RGzaspqUx+PhnXfeQVZWFvLz8xEbG0t35xKJBBs3buSEWC2fn1gs5nhDJN3x5MkTzJs3j4p1vA5m83NZuYyMDADPi7vc3d05AtFETlIqlXJC+3w+H46OjoiPj4fZbIZAIEBFRQW++OILVFVVYfPmzVi/fr2VByWRSDB//nycO3cO1dXVVNCbeNoxMTG0DsHyOknLg+WapVQqUVBQgLCwMNpU/rrjQXKY5eXliI6Oxty5czmeuNFohNFoBJ/Ph5eXl1X0gniIpL6jt7cXeXl5UKlUiI6O5ggCkHvs7OxEZmYm+Hw+1qxZ89JnK5FIEBsbiyNHjiA3NxeLFi2imwqxWIwdO3YgNTW1378dNWoU53p1Oh1KS0vR3d2NyMjIfguXhsuwDSLRorx37x5EIhEiIiI4iu2kYEWhUEAqlSIgIMDKIL7oITY1NaGwsBABAQE0BGT5u0T95tSpU4iKikJERMRLwy0kx7NixQocPXoU2dnZWLRoET3dfigLFDGG9+/fR1FREZYuXWqVq/qxYjAYUFFRAbVajejoaI54NrmvqqoqdHd3QyaTDXhAK4/Hozvs+vp66HQ69PT04Nq1axAKhVi3bt0bOamClLeXlZXBaDQiNDQU7u7unDnW3t6OxsZGSCQSTJkyhWMcSI+c2fxcrePo0aP417/+haioKGzfvh1ubm79Vrh5e3tj9erVOHToEAoKCjBv3jxIJBIIhUJIpVLY2NjAx8eHtq6Q/KBlTkir1eLZs2c4e/YsIiIiEB0dPSIyanK5HHfv3qVe+4v30NbWhoaGBkilUvj6+tLNg16vR0lJCZRKJQIDAxEUFMS5ns7OTpSVlcHW1hZeXl6cnB+Px4OzszOWLVuGgwcP4t69exg7diz1Pu3s7IZ0PBk51eDChQuws7PDggULRmRM9Ho9KioqUFtbC5lMhvDwcNpzTDbbTU1N6O7uRnBwMLy8vOjfkmInPp8PvV6Pmpoa/P3vf0d5eTlWrlyJ1NRUmi+0RCQSITExEaWlpcjMzIS/vz9cXFzoAdlD2TATz6aoqAhqtRrbtm17JV3gFyF1A2VlZdDpdJg5cyanN5fku1tbWyEQCDB16tR+Q6aWG4q6ujqkp6cjKioKQUFBHCUYUhxTU1ODvLw8LFq0CCEhIS/1/AUCATw9PfGLX/wCp0+fxpUrV5CQkEDVZ+zt7QdNMZD85uPHj3HixAnMmjULkZGRI7IODfsTiEFsb2+HRCJBYGAgJ1xFQjttbW0YN24c/P39+/UQLUOYpaWlePbsGTVaL94YEdNVKBRYvnz5kE7YFovFSExMxLx585Ceno7Lly+jvb19yNWiGo0GJSUlOHLkCCZOnIgPPvjAqorwx4rBYEB9fT3MZjPc3d05Ozaz+bk8Emm4jomJscp/EUjPkpOTE5qbm9HR0QG5XI6cnBzMnj2bviAjDTGILS0t4PP5nHAv8HwOVldXQ6FQwNHREcHBwVZeKqmA/Oc//4ljx45h0qRJ2LZtG0JDQ2n++kVsbGwwb948zJ07F5cvX0ZeXh56eno4gvVisRi2trYQi8UcwQeyAD98+BDHjx+Hu7s71q1bxzkS6HVQKBRoamqyOsKMfPfjx4/R1NQEDw8P+Pr60oiNRqNBZWUljEYj3N3dOYaU/B3Jw74ow0fCitHR0Zg1axaysrJw/fp1qNXqIbWSEA+tsbER6enpKC8vx/vvv09z2a+LXq/Ho0ePoNFo4OPjA1dXV84812g0qKqqglarRWRkJJycnKzmOQkJHjp0CDk5OUhISMBHH32EcePG9fudIpEI3t7eWLZsGdra2mj7EamFGAyymbt06RJyc3OxdOlSOn9fd20xmUxobW1FQ0MDJBIJwsPDrdbmp0+form5GWPHjkVoaKiV82HZt2wwGGhYfMmSJVb9xjweDzqdDrm5uTCbzZg7d+5L5efI34hEIixZsgQLFy7EmTNnkJ+fT1tiBoNEjx48eIATJ07A2dkZmzZtGrDndrgM+00luxCj0Ugb1i13BGq1mg7QlClTMH78+H49RPJC6/V6nD17Fs7OzoiNjbV6UYheakFBAWJjY6nqwmAQZYwPPvgAwcHBtBx46dKlg7rWJpMJubm5uH79OhYsWICoqChOQcHbAAmLWIrvkp+XlJSgoqICISEh9KUYyCA6ODjA09MT5eXlqK+vR3NzM3g8HmbMmPHGzjEkOVCdTgeRSAQPDw/O2Pf09ODmzZvQ6XTw8/PDpEmTOPOGeGrnz5/H0aNH4ejoiM8//xxhYWH08wH0WxJua2uLTZs24e7du7hx4wba2tqwbNmyQXf+RqMR5eXlyMzMxNSpUxEbGwtXV9cR20B1dXVBq9VCLBZzdv1kgSgsLERPTw8SExNpkRTwPKzU2toKABg7dizd1JlMJmg0GmRnZ0OhUCA0NHTAjaajoyNSU1Nx79495OfnQ6FQ4L333hs00kL6itPT0yEUCrF3715MnDhxRE5aIMaWzEdXV1erQiKFQoF79+5BKpUiPj6+37xWa2srDh06hLS0NMTFxWH37t1wc3PjtI30VxQYFRUFDw8PXLt2DWfOnMG7776LyZMnD2ro29rakJaWhp6eHqxfvx5TpkwZEe+QjIlarYZGo4GNjY3V2qzValFcXAyVSoWIiAj4+vparc0kZEqeXV5eHmQyGU2NWEq1mc1mVFZWoqCgAIsXL8bEiROH9FxJT+/Pf/5zBAYGIi8vDwqFAikpKYNuHo1GIx49eoSTJ08iMjISM2bMgKur64itzcM2iDwej07o0aNHc4RZzebnB+vevHkTrq6umDFjRr87BstG99raWpSVlWHHjh00L2i5++zt7UVubi4MBgPWrVvXrwf5smu1t7dHREQE/Pz8aMnvYA+Nx+MhLi4O4eHhNBn+NoRKCSRxTjYcer2e5tyUSiWOHDmCvr4+JCcnv/QsQpIz8fLygk6nQ0FBAR4+fIjVq1fThe1NQEJZZDf5YjtDXV0d8vPzIZFIkJSUZLXz7+7uRmlpKf785z9DLBbj008/xbRp0yAQCFBXV4esrCzExcVBJpNZzQUSUo+JiaGbhaHcJ4/Hg6+vL3bt2kWveSQ8wxfHhHw2gYT7iouLIRKJMG/ePM5umTx3ABzPUKvV4s6dO7h27Rr6+vqoyg1pUyJFV+TvHB0d8c477yAsLAwmk2nQcx7JNbu7u2Pjxo00jzdSY0JCnsRgWeq2Eu8mPz8fT58+RWxsLKZMmcL5biLykJGRge+//x5+fn748MMPMXnyZLroFhQU4Gc/+1m/FZOkAtfFxeWljfovYm9vj1WrVtEWnpE4ssgSki4gazO5pr6+PnR0dCAnJwejR4/GihUrrLRuyXgS0ZSCggK0t7fjww8/tMoLkg1DWloabevoL8Q8ECQNER8fj9DQUKs89EDweM81Yz/++GOqKjWSUbthz04+nw8PDw9IJBKq7UiqgFQqFbKystDY2Ij333/fSr2DQFxzrVaLixcvws/PjyO/ZmkQ29vbkZeXh61btyIoKGjYizD5ruG41DweD1Kp9K0S8baEyHu5ubmhpqYGT548gVgsRnNzMzIyMnD79m3MnDkTy5cvf2m8nnjypDT6u+++w7Jly+hxPG8KUgFnb2+P9vZ2qFQqWgzQ09ODnJwclJeX0wNnLRdCo9GIO3fu4De/+Q26urqo5JNIJIJSqcSpU6eQmZmJoKCgl17DUPNBBCKF96ZwdnaGVCpFZ2cnfedI+PvcuXOoq6tDbGwsZs+ezTFWIpEI9vb2MJvNUCqV6OrqAgDU1NQgPT2dimQQr/PWrVswm62Fl4HnBRFDMYQEYlRHetEnEFUdPp8PtVpNq6BNJhNqa2tx9OhR2NraYvny5ZxiELIh+Pe//40jR47AxsYGn332GaZOnUrH6fDhw6isrMSsWbMGbCF4lWc+3DEcDjweD46OjnBycoJSqUR3dzct8Onu7salS5dQVlaG5ORkxMXF9bs5Iae1qNVq5OXl4b333us3P0faTDo7O7Fz504EBwcPe20mimb9SR8OhEAggI2NzRtbf4ZtEEUiEQIDAxEREYHCwkJcuHABtra2MBgMSE9Px6VLlxAdHY2tW7cOOJHIQkuM6LvvvgsfH58Bf9fLy4tW1b0NObz/NaTwYvv27UhLS8PevXvh4eGB9vZ2tLa2YuXKlVi7di3tORvss1xdXSGVSqmyy0jvyl5EKBRi4sSJiIyMpDJ9Li4uEIvFOHfuHDIyMhAUFIRdu3Zx+ph0Oh0qKirw9ddfo6ysDFFRUejp6cHp06dpafilS5fg4+PD+bu3AT8/P8TGxuKHH37A1atXERgYSDeUx48fR3BwMPbs2cMpcAOeS3WFhobiH//4B4qKirBv3z7Y2tri8ePHmDZtGm1qLy4uxoEDB/DkyROkpqa+FekBsViMmJgY+Pv7o7i4GDdu3EBoaCju37+PEydOoLm5GSkpKUhKSuIYIa1Wi5s3b+JPf/oTFAoFkpKSUFlZiSdPnkCr1aKwsBC3bt3C3Llz34qqcgKJDE2fPh0VFRXIyMigKZPMzEycOnUK4eHhWLNmDae9hmDpIZJKYZIX7M8gajQaTJ8+/aWyam8bwzaIAoEAjo6O+OUvf4m//OUvyMrKQlFREYDnZcQJCQlYt24d/P39B6wkE4lEkEqlcHBwgJubGy2mIZAHY2dnBw8PDyxevJhzmgXj5ZBG87Vr10ImkyE/Px+dnZ0IDAxEWFgYpk2bBhcXl0HHkxQmqFQqjB8/Hjt37oS/v/8bDx/z+XzY29sjNTUVKpUKN27cQGVlJYRCIVpaWiCTyZCSkmJVTGMymVBaWoqGhgY4OTmho6MDZ8+epX2sXV1d6OvrQ2hoqNX5jz92nJycsHnzZnoyS21tLQwGA9RqNcLCwrBjxw6EhIRYnU0pFouRlJSExMRE3Lp1C6dPn4ZUKsWqVauwatUq5ObmIi8vD0+fPoXBYEBqaqpVv9ePFSJFuHPnTnz33Xf48ssv4eDgQCMKH3/8MVU2skSv1+P8+fNQq9Wwt7enxhB4XnjS0dEBW1tbhISEjFh+778BSRGtXLkSjY2NyM7Opt0Azc3NkMlk2LJlC2Qy2YBrs1AohIODA5ydnREXF8dpqSPfMWrUKNjZ2cHd3Z2eW/g2vUsvg2ceSmlPPxDJnOLiYtTW1kIikSAyMhLe3t6DxtO1Wi1KS0tRXl6OiRMnYubMmZxktMlkomcimkwmzJkz56UnbDMGpr/HO9TJq9PpcPPmTXzzzTeIj49HSkrKiPTUDRUS2iotLUVlZSX4fD7CwsJog/hA9zGUKf02vsCW41FeXo4xY8ZAJpPRVMJA92QymdDV1YWCggIoFArExcVRAW/yeXV1dQgPD4efn99bYQwtIe0BRUVFaG9vh7e3NyIjIwc9NPqnPE90Oh2KiopQXV0NPp+PyMhI6lS87J76+vpw6dIlyOVyTJs2DTKZjBPyJoVM165dg8lkQnJy8huPGP03eWWDCIAqqZOcHylAGOyFIiLdpDH+xaIVUqBDhJuJksZPZdB/rOh0OjQ2NsJoNMLOzo7KfQUFBWHz5s1wd3f/r0vXkbky3Dn2U4UUyej1elpkM5SePqI6QjQ9ycJIcrOkqf9tkSZ8EYPBQNcich+WPXP/3yBGkYhok3aKwcaDbLqIqg0ZR8v/J/PIaDSOePHY/5rXMoiMnxZKpRLffPMN5HI5xo0bh9LSUvj4+GDz5s2YMmXK//ryGAwG443y0zHtjNempaUFubm5KCsrg5OTE1JTU7F169YhqZEwGAzG2w7zEBmU1tZW5OfnQ6VSISAgAJMmTYJUKn1rw2gMBoMxHJhBZDAYDAYDr6BlymAwGAzGTxFmEBkMBoPBADOIDAaDwWAAYAaRwWAwGAwAzCAyGAwGgwGAGUQGg8FgMAAwg8hgMBgMBgBmEBkMBoPBAMAMIoPBYDAYAJhBZDAYDAYDADOIDAaDwWAAYAaRwWAwGAwAzCAyGAwGgwGAGUQGg8FgMAAwg8hgMBgMBgDg/wD5b82kTKG0AgAAAABJRU5ErkJggg==)"
      ],
      "metadata": {
        "id": "UXDVZvrvwDr9"
      }
    },
    {
      "cell_type": "markdown",
      "source": [
        "Para a antepenúltima teríamos:"
      ],
      "metadata": {
        "id": "ebOpqV0dwQiZ"
      }
    },
    {
      "cell_type": "markdown",
      "source": [
        "![image.png](data:image/png;base64,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)"
      ],
      "metadata": {
        "id": "SonA76qowT9W"
      }
    },
    {
      "cell_type": "markdown",
      "source": [
        "E assim por diante.\n",
        "\n",
        "Referências: https://www.youtube.com/watch?v=tIeHLnjs5U8\n",
        "\n"
      ],
      "metadata": {
        "id": "QeWSQChPwaG2"
      }
    },
    {
      "cell_type": "markdown",
      "source": [
        "### MLP"
      ],
      "metadata": {
        "id": "KyzfzrRNlXSB"
      }
    },
    {
      "cell_type": "markdown",
      "source": [
        "Agora que já temos tudo para montar uma rede neural do tipo MLP, só falta juntar!"
      ],
      "metadata": {
        "id": "swAUrEsQDfuQ"
      }
    },
    {
      "cell_type": "code",
      "source": [
        "class MLP():\n",
        "  def __init__(self, camadas, loss):\n",
        "    self.camadas = camadas\n",
        "    self.loss = loss\n",
        "  \n",
        "  def predizer(self, entrada):\n",
        "    entrada_ = entrada\n",
        "    for camada in self.camadas:\n",
        "      entrada_ = camada.propagar(entrada_)\n",
        "    return entrada_\n",
        "  \n",
        "  def _backpropagation(self, valores_reais, predicoes):\n",
        "    resultado_anterior = self.loss.derivada(valores_reais, predicoes)\n",
        "    for camada in reversed(self.camadas):\n",
        "      parcial = resultado_anterior * camada.funcao_ativacao.derivada(camada._saida_linear)\n",
        "      camada.delta_peso = np.dot(camada._entrada.T, parcial) / camada._entrada.shape[1]\n",
        "      resultado_anterior = np.dot(parcial, camada.pesos.T)\n",
        "        \n",
        "  def treinar(self, entrada, target, epocas, taxa_aprendizado):\n",
        "    for epoca in range(epocas):\n",
        "      saida = self.predizer(entrada)\n",
        "      erro = self.loss.erro(target, saida)\n",
        "      if epoca % 10 == 0:\n",
        "        print(f'Época {epoca}: {erro}')\n",
        "      self._backpropagation(target, saida)\n",
        "      for camada in self.camadas:\n",
        "        camada.pesos -= taxa_aprendizado * camada.delta_peso"
      ],
      "metadata": {
        "id": "o_d94ZPEmaca"
      },
      "execution_count": null,
      "outputs": []
    },
    {
      "cell_type": "markdown",
      "source": [
        "### Será que a rede aprende a somar?"
      ],
      "metadata": {
        "id": "rcsGiS3v7vOQ"
      }
    },
    {
      "cell_type": "code",
      "source": [
        "x1 = np.random.randint(100, size=100).reshape(100, -1)\n",
        "x2 = np.random.randint(100, size=100).reshape(100, -1)\n",
        "X = np.concatenate([x1, x2], axis=1)\n",
        "y = x1 + x2"
      ],
      "metadata": {
        "id": "F-uYpuUI7q2B"
      },
      "execution_count": null,
      "outputs": []
    },
    {
      "cell_type": "code",
      "source": [
        "X[:5], y[:5]"
      ],
      "metadata": {
        "colab": {
          "base_uri": "https://localhost:8080/"
        },
        "id": "faZt72fr7r35",
        "outputId": "d170aea6-fa2e-4786-f711-3c70fe3b3846"
      },
      "execution_count": null,
      "outputs": [
        {
          "output_type": "execute_result",
          "data": {
            "text/plain": [
              "(array([[51, 25],\n",
              "        [92, 88],\n",
              "        [14, 59],\n",
              "        [71, 40],\n",
              "        [60, 28]]), array([[ 76],\n",
              "        [180],\n",
              "        [ 73],\n",
              "        [111],\n",
              "        [ 88]]))"
            ]
          },
          "metadata": {},
          "execution_count": 58
        }
      ]
    },
    {
      "cell_type": "code",
      "source": [
        "rede = MLP([Camada(2, 2, Linear()), Camada(2, 1, Linear())], MAE())\n",
        "rede.treinar(X, y, 1000, 0.000001)"
      ],
      "metadata": {
        "id": "WqUCyAM-wNvK",
        "colab": {
          "base_uri": "https://localhost:8080/"
        },
        "outputId": "e1672fae-c292-4f5d-e8de-d358c060cd56"
      },
      "execution_count": null,
      "outputs": [
        {
          "output_type": "stream",
          "name": "stdout",
          "text": [
            "Época 0: 107.83936090881194\n",
            "Época 10: 101.78641428194834\n",
            "Época 20: 95.75303932100479\n",
            "Época 30: 89.71021069639477\n",
            "Época 40: 83.62886458409093\n",
            "Época 50: 77.47975887744809\n",
            "Época 60: 71.23333257508965\n",
            "Época 70: 64.85956366870917\n",
            "Época 80: 58.32782484758646\n",
            "Época 90: 51.60673632627898\n",
            "Época 100: 44.664015088279456\n",
            "Época 110: 37.46631982136108\n",
            "Época 120: 31.02315158134331\n",
            "Época 130: 25.86772309478787\n",
            "Época 140: 21.22836360574073\n",
            "Época 150: 17.89796737212842\n",
            "Época 160: 16.14945654631849\n",
            "Época 170: 15.062405268114176\n",
            "Época 180: 14.371548636812323\n",
            "Época 190: 13.902287230833524\n",
            "Época 200: 13.547918319065518\n",
            "Época 210: 13.255847321191757\n",
            "Época 220: 12.986381617755756\n",
            "Época 230: 12.719864371648109\n",
            "Época 240: 12.455973523007172\n",
            "Época 250: 12.194650993437065\n",
            "Época 260: 11.935650761246823\n",
            "Época 270: 11.679033147773243\n",
            "Época 280: 11.424663768286457\n",
            "Época 290: 11.17248250447017\n",
            "Época 300: 10.922469992789315\n",
            "Época 310: 10.674489614522424\n",
            "Época 320: 10.428452282098755\n",
            "Época 330: 10.184232367822954\n",
            "Época 340: 9.941705174820642\n",
            "Época 350: 9.700746873369031\n",
            "Época 360: 9.461234437671791\n",
            "Época 370: 9.223053378668379\n",
            "Época 380: 8.98733435556603\n",
            "Época 390: 8.75315962034789\n",
            "Época 400: 8.520798227704795\n",
            "Época 410: 8.289856430914138\n",
            "Época 420: 8.060199573517336\n",
            "Época 430: 7.831979356958998\n",
            "Época 440: 7.605141001480655\n",
            "Época 450: 7.37983736030846\n",
            "Época 460: 7.155496118953984\n",
            "Época 470: 6.932585398213278\n",
            "Época 480: 6.7107565317839795\n",
            "Época 490: 6.4902117736486\n",
            "Época 500: 6.270650957598268\n",
            "Época 510: 6.051892461811656\n",
            "Época 520: 5.834505973218873\n",
            "Época 530: 5.617839742727226\n",
            "Época 540: 5.401942247220493\n",
            "Época 550: 5.187156925006726\n",
            "Época 560: 4.973054483317489\n",
            "Época 570: 4.759666650462348\n",
            "Época 580: 4.547082690738659\n",
            "Época 590: 4.335196530625501\n",
            "Época 600: 4.123902369726473\n",
            "Época 610: 3.91309470583838\n",
            "Época 620: 3.7030434544935535\n",
            "Época 630: 3.4934444186191125\n",
            "Época 640: 3.284368357614678\n",
            "Época 650: 3.0755729537521903\n",
            "Época 660: 2.8673480044782607\n",
            "Época 670: 2.6595479121228327\n",
            "Época 680: 2.4519312025443876\n",
            "Época 690: 2.2447011928290026\n",
            "Época 700: 2.037921856650064\n",
            "Época 710: 1.831228286576014\n",
            "Época 720: 1.624544526570315\n",
            "Época 730: 1.418251793750655\n",
            "Época 740: 1.2119814653398002\n",
            "Época 750: 1.0055657213618252\n",
            "Época 760: 0.7993687725738414\n",
            "Época 770: 0.5932486284762362\n",
            "Época 780: 0.39134764622905344\n",
            "Época 790: 0.36753294962502553\n",
            "Época 800: 0.4387776626491957\n",
            "Época 810: 0.45050785716785025\n",
            "Época 820: 0.4622366416051065\n",
            "Época 830: 0.45132230325115386\n",
            "Época 840: 0.46305098978423176\n",
            "Época 850: 0.45213837496462445\n",
            "Época 860: 0.46386696339810923\n",
            "Época 870: 0.4755941419432699\n",
            "Época 880: 0.4756314170304413\n",
            "Época 890: 0.46472268366562164\n",
            "Época 900: 0.47644975934505884\n",
            "Época 910: 0.4764883103993243\n",
            "Época 920: 0.4882139717380536\n",
            "Época 930: 0.47730911720369273\n",
            "Época 940: 0.4890346798736396\n",
            "Época 950: 0.48907450093570815\n",
            "Época 960: 0.4781722120502275\n",
            "Época 970: 0.4898976709679595\n",
            "Época 980: 0.48993876550109305\n",
            "Época 990: 0.5016628099667596\n"
          ]
        }
      ]
    },
    {
      "cell_type": "code",
      "source": [
        "rede.predizer(np.array([[200, 300]]))"
      ],
      "metadata": {
        "colab": {
          "base_uri": "https://localhost:8080/"
        },
        "id": "f4041VVJpA0v",
        "outputId": "9e04cbef-7ab1-4dde-a1da-49592477471b"
      },
      "execution_count": null,
      "outputs": [
        {
          "output_type": "execute_result",
          "data": {
            "text/plain": [
              "array([[497.02350443]])"
            ]
          },
          "metadata": {},
          "execution_count": 60
        }
      ]
    },
    {
      "cell_type": "markdown",
      "source": [
        "## Resolvendo o problema de vendas dado o tipo de propaganda\n",
        "\n",
        "Na última aula, falamos de um problema onde queriamos prever a quantidade de venda com base no investimento feito em três canais de propaganda: Rádio, TV e Jornal. Hoje, vamos utilizar a rede que fizemos para tentar resolver esse problema."
      ],
      "metadata": {
        "id": "1-u8WD5DeV55"
      }
    },
    {
      "cell_type": "markdown",
      "source": [
        "### Download dos dados"
      ],
      "metadata": {
        "id": "UIpBjzyJ6nkZ"
      }
    },
    {
      "cell_type": "code",
      "source": [
        "import gdown\n",
        "import pandas as pd\n",
        "\n",
        "url = \"https://drive.google.com/uc?id=12TaztZ5sVeuGymAJghhWenTGJ6kJQroc\"\n",
        "output = \"/content/Advertising.csv\"\n",
        "gdown.download(url, output, quiet=False)"
      ],
      "metadata": {
        "colab": {
          "base_uri": "https://localhost:8080/",
          "height": 105
        },
        "id": "NKgElkegMiDV",
        "outputId": "82bae254-f451-4c22-aaad-822a7be5ef01"
      },
      "execution_count": null,
      "outputs": [
        {
          "output_type": "stream",
          "name": "stderr",
          "text": [
            "Downloading...\n",
            "From: https://drive.google.com/uc?id=12TaztZ5sVeuGymAJghhWenTGJ6kJQroc\n",
            "To: /content/Advertising.csv\n",
            "100%|██████████| 5.17k/5.17k [00:00<00:00, 4.64MB/s]\n"
          ]
        },
        {
          "output_type": "execute_result",
          "data": {
            "text/plain": [
              "'/content/Advertising.csv'"
            ],
            "application/vnd.google.colaboratory.intrinsic+json": {
              "type": "string"
            }
          },
          "metadata": {},
          "execution_count": 8
        }
      ]
    },
    {
      "cell_type": "markdown",
      "source": [
        "### Leitura dos dados"
      ],
      "metadata": {
        "id": "y6JCuIlf6rMI"
      }
    },
    {
      "cell_type": "code",
      "source": [
        "df_advertising = pd.read_csv('Advertising.csv', index_col = 0)\n",
        "df_advertising.head()"
      ],
      "metadata": {
        "colab": {
          "base_uri": "https://localhost:8080/",
          "height": 206
        },
        "id": "PEdv14_TQTm1",
        "outputId": "9f790339-d9ba-4622-c91f-543a54675cf4"
      },
      "execution_count": null,
      "outputs": [
        {
          "output_type": "execute_result",
          "data": {
            "text/plain": [
              "      TV  Radio  Newspaper  Sales\n",
              "1  230.1   37.8       69.2   22.1\n",
              "2   44.5   39.3       45.1   10.4\n",
              "3   17.2   45.9       69.3    9.3\n",
              "4  151.5   41.3       58.5   18.5\n",
              "5  180.8   10.8       58.4   12.9"
            ],
            "text/html": [
              "\n",
              "  <div id=\"df-9bba72a4-bf2e-47a8-9217-21edf01ba965\">\n",
              "    <div class=\"colab-df-container\">\n",
              "      <div>\n",
              "<style scoped>\n",
              "    .dataframe tbody tr th:only-of-type {\n",
              "        vertical-align: middle;\n",
              "    }\n",
              "\n",
              "    .dataframe tbody tr th {\n",
              "        vertical-align: top;\n",
              "    }\n",
              "\n",
              "    .dataframe thead th {\n",
              "        text-align: right;\n",
              "    }\n",
              "</style>\n",
              "<table border=\"1\" class=\"dataframe\">\n",
              "  <thead>\n",
              "    <tr style=\"text-align: right;\">\n",
              "      <th></th>\n",
              "      <th>TV</th>\n",
              "      <th>Radio</th>\n",
              "      <th>Newspaper</th>\n",
              "      <th>Sales</th>\n",
              "    </tr>\n",
              "  </thead>\n",
              "  <tbody>\n",
              "    <tr>\n",
              "      <th>1</th>\n",
              "      <td>230.1</td>\n",
              "      <td>37.8</td>\n",
              "      <td>69.2</td>\n",
              "      <td>22.1</td>\n",
              "    </tr>\n",
              "    <tr>\n",
              "      <th>2</th>\n",
              "      <td>44.5</td>\n",
              "      <td>39.3</td>\n",
              "      <td>45.1</td>\n",
              "      <td>10.4</td>\n",
              "    </tr>\n",
              "    <tr>\n",
              "      <th>3</th>\n",
              "      <td>17.2</td>\n",
              "      <td>45.9</td>\n",
              "      <td>69.3</td>\n",
              "      <td>9.3</td>\n",
              "    </tr>\n",
              "    <tr>\n",
              "      <th>4</th>\n",
              "      <td>151.5</td>\n",
              "      <td>41.3</td>\n",
              "      <td>58.5</td>\n",
              "      <td>18.5</td>\n",
              "    </tr>\n",
              "    <tr>\n",
              "      <th>5</th>\n",
              "      <td>180.8</td>\n",
              "      <td>10.8</td>\n",
              "      <td>58.4</td>\n",
              "      <td>12.9</td>\n",
              "    </tr>\n",
              "  </tbody>\n",
              "</table>\n",
              "</div>\n",
              "      <button class=\"colab-df-convert\" onclick=\"convertToInteractive('df-9bba72a4-bf2e-47a8-9217-21edf01ba965')\"\n",
              "              title=\"Convert this dataframe to an interactive table.\"\n",
              "              style=\"display:none;\">\n",
              "        \n",
              "  <svg xmlns=\"http://www.w3.org/2000/svg\" height=\"24px\"viewBox=\"0 0 24 24\"\n",
              "       width=\"24px\">\n",
              "    <path d=\"M0 0h24v24H0V0z\" fill=\"none\"/>\n",
              "    <path d=\"M18.56 5.44l.94 2.06.94-2.06 2.06-.94-2.06-.94-.94-2.06-.94 2.06-2.06.94zm-11 1L8.5 8.5l.94-2.06 2.06-.94-2.06-.94L8.5 2.5l-.94 2.06-2.06.94zm10 10l.94 2.06.94-2.06 2.06-.94-2.06-.94-.94-2.06-.94 2.06-2.06.94z\"/><path d=\"M17.41 7.96l-1.37-1.37c-.4-.4-.92-.59-1.43-.59-.52 0-1.04.2-1.43.59L10.3 9.45l-7.72 7.72c-.78.78-.78 2.05 0 2.83L4 21.41c.39.39.9.59 1.41.59.51 0 1.02-.2 1.41-.59l7.78-7.78 2.81-2.81c.8-.78.8-2.07 0-2.86zM5.41 20L4 18.59l7.72-7.72 1.47 1.35L5.41 20z\"/>\n",
              "  </svg>\n",
              "      </button>\n",
              "      \n",
              "  <style>\n",
              "    .colab-df-container {\n",
              "      display:flex;\n",
              "      flex-wrap:wrap;\n",
              "      gap: 12px;\n",
              "    }\n",
              "\n",
              "    .colab-df-convert {\n",
              "      background-color: #E8F0FE;\n",
              "      border: none;\n",
              "      border-radius: 50%;\n",
              "      cursor: pointer;\n",
              "      display: none;\n",
              "      fill: #1967D2;\n",
              "      height: 32px;\n",
              "      padding: 0 0 0 0;\n",
              "      width: 32px;\n",
              "    }\n",
              "\n",
              "    .colab-df-convert:hover {\n",
              "      background-color: #E2EBFA;\n",
              "      box-shadow: 0px 1px 2px rgba(60, 64, 67, 0.3), 0px 1px 3px 1px rgba(60, 64, 67, 0.15);\n",
              "      fill: #174EA6;\n",
              "    }\n",
              "\n",
              "    [theme=dark] .colab-df-convert {\n",
              "      background-color: #3B4455;\n",
              "      fill: #D2E3FC;\n",
              "    }\n",
              "\n",
              "    [theme=dark] .colab-df-convert:hover {\n",
              "      background-color: #434B5C;\n",
              "      box-shadow: 0px 1px 3px 1px rgba(0, 0, 0, 0.15);\n",
              "      filter: drop-shadow(0px 1px 2px rgba(0, 0, 0, 0.3));\n",
              "      fill: #FFFFFF;\n",
              "    }\n",
              "  </style>\n",
              "\n",
              "      <script>\n",
              "        const buttonEl =\n",
              "          document.querySelector('#df-9bba72a4-bf2e-47a8-9217-21edf01ba965 button.colab-df-convert');\n",
              "        buttonEl.style.display =\n",
              "          google.colab.kernel.accessAllowed ? 'block' : 'none';\n",
              "\n",
              "        async function convertToInteractive(key) {\n",
              "          const element = document.querySelector('#df-9bba72a4-bf2e-47a8-9217-21edf01ba965');\n",
              "          const dataTable =\n",
              "            await google.colab.kernel.invokeFunction('convertToInteractive',\n",
              "                                                     [key], {});\n",
              "          if (!dataTable) return;\n",
              "\n",
              "          const docLinkHtml = 'Like what you see? Visit the ' +\n",
              "            '<a target=\"_blank\" href=https://colab.research.google.com/notebooks/data_table.ipynb>data table notebook</a>'\n",
              "            + ' to learn more about interactive tables.';\n",
              "          element.innerHTML = '';\n",
              "          dataTable['output_type'] = 'display_data';\n",
              "          await google.colab.output.renderOutput(dataTable, element);\n",
              "          const docLink = document.createElement('div');\n",
              "          docLink.innerHTML = docLinkHtml;\n",
              "          element.appendChild(docLink);\n",
              "        }\n",
              "      </script>\n",
              "    </div>\n",
              "  </div>\n",
              "  "
            ]
          },
          "metadata": {},
          "execution_count": 62
        }
      ]
    },
    {
      "cell_type": "code",
      "source": [
        "X = df_advertising[['TV', 'Radio', 'Newspaper']].values\n",
        "y = df_advertising[['Sales']].values"
      ],
      "metadata": {
        "id": "2UsFm_EkQW8A"
      },
      "execution_count": null,
      "outputs": []
    },
    {
      "cell_type": "markdown",
      "source": [
        "### Definição da nossa rede"
      ],
      "metadata": {
        "id": "4raZnsZD6us_"
      }
    },
    {
      "cell_type": "code",
      "source": [
        "np.random.seed(42)\n",
        "rede = MLP(\n",
        "    [\n",
        "     Camada(3, 5, Sigmoide()),\n",
        "     Camada(5, 10, Sigmoide()),\n",
        "     Camada(10, 1, Linear())\n",
        "    ],\n",
        "     MSE())"
      ],
      "metadata": {
        "id": "CXG1ni6uQdj_"
      },
      "execution_count": null,
      "outputs": []
    },
    {
      "cell_type": "code",
      "source": [
        "rede.treinar(X, y, 500, 0.01)"
      ],
      "metadata": {
        "colab": {
          "base_uri": "https://localhost:8080/"
        },
        "id": "lmcXEC5XQuuG",
        "outputId": "5b272d49-4e1e-43f9-82ab-4109316d4ca6"
      },
      "execution_count": null,
      "outputs": [
        {
          "output_type": "stream",
          "name": "stdout",
          "text": [
            "Época 0: 194.87792658928865\n",
            "Época 10: 21.77930862228444\n",
            "Época 20: 22.865022230933377\n",
            "Época 30: 20.70585757297583\n",
            "Época 40: 23.090870320883088\n",
            "Época 50: 20.67148910504968\n",
            "Época 60: 20.352684441649586\n",
            "Época 70: 20.34953424506274\n",
            "Época 80: 20.348982284214795\n",
            "Época 90: 20.34882638882719\n",
            "Época 100: 20.34875988183788\n",
            "Época 110: 20.34871807998033\n",
            "Época 120: 20.348686002376372\n",
            "Época 130: 20.34865947078613\n",
            "Época 140: 20.348636864571635\n",
            "Época 150: 20.34861729637916\n",
            "Época 160: 20.34860016817832\n",
            "Época 170: 20.3485850385699\n",
            "Época 180: 20.34857156855269\n",
            "Época 190: 20.348559492021266\n",
            "Época 200: 20.348548596837425\n",
            "Época 210: 20.348538711724867\n",
            "Época 220: 20.348529696854552\n",
            "Época 230: 20.34852143692882\n",
            "Época 240: 20.348513836015645\n",
            "Época 250: 20.34850681363535\n",
            "Época 260: 20.348500301758804\n",
            "Época 270: 20.34849424247841\n",
            "Época 280: 20.348488586182135\n",
            "Época 290: 20.348483290108078\n",
            "Época 300: 20.348478317190015\n",
            "Época 310: 20.348473635127526\n",
            "Época 320: 20.34846921563131\n",
            "Época 330: 20.348465033805972\n",
            "Época 340: 20.348461067641775\n",
            "Época 350: 20.348457297593246\n",
            "Época 360: 20.348453706227517\n",
            "Época 370: 20.348450277928855\n",
            "Época 380: 20.348446998648864\n",
            "Época 390: 20.348443855693706\n",
            "Época 400: 20.348440837541606\n",
            "Época 410: 20.348437933684966\n",
            "Época 420: 20.348435134492487\n",
            "Época 430: 20.348432431087385\n",
            "Época 440: 20.34842981523836\n",
            "Época 450: 20.348427279260278\n",
            "Época 460: 20.348424815921817\n",
            "Época 470: 20.348422418357384\n",
            "Época 480: 20.34842007998043\n",
            "Época 490: 20.34841779439513\n"
          ]
        }
      ]
    },
    {
      "cell_type": "markdown",
      "source": [
        "### Comparando com a implementação de MLP do sklearn"
      ],
      "metadata": {
        "id": "3vXPFRj56yOj"
      }
    },
    {
      "cell_type": "code",
      "source": [
        "from sklearn.metrics import mean_squared_error\n",
        "from sklearn.neural_network import MLPRegressor"
      ],
      "metadata": {
        "id": "tkR3XPjyQ0EK"
      },
      "execution_count": null,
      "outputs": []
    },
    {
      "cell_type": "code",
      "source": [
        "mlp = MLPRegressor((5, 10), activation='logistic',\n",
        "                   learning_rate_init=0.01, max_iter=500,\n",
        "                   batch_size=X.shape[0], shuffle=False,\n",
        "                   solver='sgd', n_iter_no_change=500,\n",
        "                   momentum=0, random_state=42,\n",
        "                   alpha=0)\n",
        "mlp.fit(X,y)"
      ],
      "metadata": {
        "colab": {
          "base_uri": "https://localhost:8080/"
        },
        "id": "KSnkOO07Rsm9",
        "outputId": "13230621-acb3-4fc0-e1b5-6488956c896f"
      },
      "execution_count": null,
      "outputs": [
        {
          "output_type": "stream",
          "name": "stderr",
          "text": [
            "/usr/local/lib/python3.7/dist-packages/sklearn/neural_network/_multilayer_perceptron.py:1599: DataConversionWarning: A column-vector y was passed when a 1d array was expected. Please change the shape of y to (n_samples, ), for example using ravel().\n",
            "  y = column_or_1d(y, warn=True)\n",
            "/usr/local/lib/python3.7/dist-packages/sklearn/neural_network/_multilayer_perceptron.py:696: ConvergenceWarning: Stochastic Optimizer: Maximum iterations (500) reached and the optimization hasn't converged yet.\n",
            "  ConvergenceWarning,\n"
          ]
        },
        {
          "output_type": "execute_result",
          "data": {
            "text/plain": [
              "MLPRegressor(activation='logistic', alpha=0, batch_size=200,\n",
              "             hidden_layer_sizes=(5, 10), learning_rate_init=0.01, max_iter=500,\n",
              "             momentum=0, n_iter_no_change=500, random_state=42, shuffle=False,\n",
              "             solver='sgd')"
            ]
          },
          "metadata": {},
          "execution_count": 103
        }
      ]
    },
    {
      "cell_type": "code",
      "source": [
        "mean_squared_error(y, mlp.predict(X))"
      ],
      "metadata": {
        "colab": {
          "base_uri": "https://localhost:8080/"
        },
        "id": "2Be1e9RO7EK5",
        "outputId": "4b3b95ac-1773-441b-d723-f111c12d4208"
      },
      "execution_count": null,
      "outputs": [
        {
          "output_type": "execute_result",
          "data": {
            "text/plain": [
              "19.02235433425438"
            ]
          },
          "metadata": {},
          "execution_count": 104
        }
      ]
    },
    {
      "cell_type": "markdown",
      "source": [
        "### Bônus: Comparando com uma regressão linear simples"
      ],
      "metadata": {
        "id": "MHtbJ9HY7HpE"
      }
    },
    {
      "cell_type": "code",
      "source": [
        "from sklearn.linear_model import LinearRegression"
      ],
      "metadata": {
        "id": "8vng5IOFdQsS"
      },
      "execution_count": null,
      "outputs": []
    },
    {
      "cell_type": "code",
      "source": [
        "lr = LinearRegression()\n",
        "lr.fit(X, y)"
      ],
      "metadata": {
        "colab": {
          "base_uri": "https://localhost:8080/"
        },
        "id": "QpiRLGdJ7Bdv",
        "outputId": "3fb071f5-04da-4cc5-c95f-ee604eb082bb"
      },
      "execution_count": null,
      "outputs": [
        {
          "output_type": "execute_result",
          "data": {
            "text/plain": [
              "LinearRegression()"
            ]
          },
          "metadata": {},
          "execution_count": 26
        }
      ]
    },
    {
      "cell_type": "code",
      "source": [
        "mean_squared_error(y, lr.predict(X))"
      ],
      "metadata": {
        "colab": {
          "base_uri": "https://localhost:8080/"
        },
        "id": "3_p9PHv87Fd7",
        "outputId": "9ccd78f5-528d-485c-a6cf-86ef0aa2a3fa"
      },
      "execution_count": null,
      "outputs": [
        {
          "output_type": "execute_result",
          "data": {
            "text/plain": [
              "2.784126314510936"
            ]
          },
          "metadata": {},
          "execution_count": 27
        }
      ]
    }
  ]
}